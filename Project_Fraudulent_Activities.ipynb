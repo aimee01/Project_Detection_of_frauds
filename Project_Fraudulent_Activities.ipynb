{
  "nbformat": 4,
  "nbformat_minor": 0,
  "metadata": {
    "colab": {
      "name": "Project_Fraudulent_Activities.ipynb",
      "provenance": []
    },
    "kernelspec": {
      "display_name": "Python 3",
      "language": "python",
      "name": "python3"
    },
    "language_info": {
      "codemirror_mode": {
        "name": "ipython",
        "version": 3
      },
      "file_extension": ".py",
      "mimetype": "text/x-python",
      "name": "python",
      "nbconvert_exporter": "python",
      "pygments_lexer": "ipython3",
      "version": "3.7.6"
    },
    "accelerator": "GPU"
  },
  "cells": [
    {
      "cell_type": "code",
      "metadata": {
        "id": "EqeRZTEk82rR",
        "colab_type": "code",
        "colab": {
          "base_uri": "https://localhost:8080/",
          "height": 122
        },
        "outputId": "2fc14e58-16cb-44a5-cf1e-96c0c74a5bbc"
      },
      "source": [
        "import numpy as np \n",
        "import pandas as pd \n",
        "import seaborn as sns\n",
        "import matplotlib.pyplot as plt\n",
        "\n",
        "from sklearn.preprocessing import StandardScaler, OneHotEncoder\n",
        "from sklearn.decomposition import PCA\n",
        "from sklearn.model_selection import train_test_split, GridSearchCV  \n",
        "from sklearn.compose import ColumnTransformer\n",
        "from sklearn.linear_model import LogisticRegression\n",
        "from sklearn.ensemble import RandomForestClassifier \n",
        "from sklearn.metrics import confusion_matrix, roc_curve, roc_auc_score, mean_squared_error\n",
        "from sklearn.model_selection import cross_val_score, StratifiedKFold, GridSearchCV\n",
        "from sklearn.metrics import classification_report\n",
        "from datetime import datetime \n",
        "!pip install xgboost\n",
        "from xgboost import XGBClassifier \n"
      ],
      "execution_count": 3,
      "outputs": [
        {
          "output_type": "stream",
          "text": [
            "/usr/local/lib/python3.6/dist-packages/statsmodels/tools/_testing.py:19: FutureWarning: pandas.util.testing is deprecated. Use the functions in the public API at pandas.testing instead.\n",
            "  import pandas.util.testing as tm\n"
          ],
          "name": "stderr"
        },
        {
          "output_type": "stream",
          "text": [
            "Requirement already satisfied: xgboost in /usr/local/lib/python3.6/dist-packages (0.90)\n",
            "Requirement already satisfied: scipy in /usr/local/lib/python3.6/dist-packages (from xgboost) (1.4.1)\n",
            "Requirement already satisfied: numpy in /usr/local/lib/python3.6/dist-packages (from xgboost) (1.18.5)\n"
          ],
          "name": "stdout"
        }
      ]
    },
    {
      "cell_type": "markdown",
      "metadata": {
        "id": "3J9aZI88a7Ns",
        "colab_type": "text"
      },
      "source": [
        "## Overview of the datasets"
      ]
    },
    {
      "cell_type": "code",
      "metadata": {
        "colab_type": "code",
        "id": "_hTSOz-Wc7FR",
        "colab": {}
      },
      "source": [
        "data1 = pd.read_csv(\"Fraud_Data.csv\")"
      ],
      "execution_count": 4,
      "outputs": []
    },
    {
      "cell_type": "code",
      "metadata": {
        "colab_type": "code",
        "id": "wNCerPzhe8Dt",
        "colab": {
          "base_uri": "https://localhost:8080/",
          "height": 323
        },
        "outputId": "a8a3b6b1-9c69-4c12-c880-bc63a41195f2"
      },
      "source": [
        "data1.info()"
      ],
      "execution_count": null,
      "outputs": [
        {
          "output_type": "stream",
          "text": [
            "<class 'pandas.core.frame.DataFrame'>\n",
            "RangeIndex: 151112 entries, 0 to 151111\n",
            "Data columns (total 11 columns):\n",
            " #   Column          Non-Null Count   Dtype  \n",
            "---  ------          --------------   -----  \n",
            " 0   user_id         151112 non-null  int64  \n",
            " 1   signup_time     151112 non-null  object \n",
            " 2   purchase_time   151112 non-null  object \n",
            " 3   purchase_value  151112 non-null  int64  \n",
            " 4   device_id       151112 non-null  object \n",
            " 5   source          151112 non-null  object \n",
            " 6   browser         151112 non-null  object \n",
            " 7   sex             151112 non-null  object \n",
            " 8   age             151112 non-null  int64  \n",
            " 9   ip_address      151112 non-null  float64\n",
            " 10  class           151112 non-null  int64  \n",
            "dtypes: float64(1), int64(4), object(6)\n",
            "memory usage: 12.7+ MB\n"
          ],
          "name": "stdout"
        }
      ]
    },
    {
      "cell_type": "code",
      "metadata": {
        "colab_type": "code",
        "id": "G60bffXcfBpx",
        "colab": {
          "base_uri": "https://localhost:8080/",
          "height": 390
        },
        "outputId": "d35ddaf7-f2ff-473e-fdec-425483d47e0a"
      },
      "source": [
        "data1.describe(include='all')"
      ],
      "execution_count": null,
      "outputs": [
        {
          "output_type": "execute_result",
          "data": {
            "text/html": [
              "<div>\n",
              "<style scoped>\n",
              "    .dataframe tbody tr th:only-of-type {\n",
              "        vertical-align: middle;\n",
              "    }\n",
              "\n",
              "    .dataframe tbody tr th {\n",
              "        vertical-align: top;\n",
              "    }\n",
              "\n",
              "    .dataframe thead th {\n",
              "        text-align: right;\n",
              "    }\n",
              "</style>\n",
              "<table border=\"1\" class=\"dataframe\">\n",
              "  <thead>\n",
              "    <tr style=\"text-align: right;\">\n",
              "      <th></th>\n",
              "      <th>user_id</th>\n",
              "      <th>signup_time</th>\n",
              "      <th>purchase_time</th>\n",
              "      <th>purchase_value</th>\n",
              "      <th>device_id</th>\n",
              "      <th>source</th>\n",
              "      <th>browser</th>\n",
              "      <th>sex</th>\n",
              "      <th>age</th>\n",
              "      <th>ip_address</th>\n",
              "      <th>class</th>\n",
              "    </tr>\n",
              "  </thead>\n",
              "  <tbody>\n",
              "    <tr>\n",
              "      <th>count</th>\n",
              "      <td>151112.000000</td>\n",
              "      <td>151112</td>\n",
              "      <td>151112</td>\n",
              "      <td>151112.000000</td>\n",
              "      <td>151112</td>\n",
              "      <td>151112</td>\n",
              "      <td>151112</td>\n",
              "      <td>151112</td>\n",
              "      <td>151112.000000</td>\n",
              "      <td>1.511120e+05</td>\n",
              "      <td>151112.000000</td>\n",
              "    </tr>\n",
              "    <tr>\n",
              "      <th>unique</th>\n",
              "      <td>NaN</td>\n",
              "      <td>151112</td>\n",
              "      <td>150679</td>\n",
              "      <td>NaN</td>\n",
              "      <td>137956</td>\n",
              "      <td>3</td>\n",
              "      <td>5</td>\n",
              "      <td>2</td>\n",
              "      <td>NaN</td>\n",
              "      <td>NaN</td>\n",
              "      <td>NaN</td>\n",
              "    </tr>\n",
              "    <tr>\n",
              "      <th>top</th>\n",
              "      <td>NaN</td>\n",
              "      <td>2015-04-17 16:05:06</td>\n",
              "      <td>2015-09-10 09:04:53</td>\n",
              "      <td>NaN</td>\n",
              "      <td>ITUMJCKWEYNDD</td>\n",
              "      <td>SEO</td>\n",
              "      <td>Chrome</td>\n",
              "      <td>M</td>\n",
              "      <td>NaN</td>\n",
              "      <td>NaN</td>\n",
              "      <td>NaN</td>\n",
              "    </tr>\n",
              "    <tr>\n",
              "      <th>freq</th>\n",
              "      <td>NaN</td>\n",
              "      <td>1</td>\n",
              "      <td>3</td>\n",
              "      <td>NaN</td>\n",
              "      <td>20</td>\n",
              "      <td>60615</td>\n",
              "      <td>61432</td>\n",
              "      <td>88293</td>\n",
              "      <td>NaN</td>\n",
              "      <td>NaN</td>\n",
              "      <td>NaN</td>\n",
              "    </tr>\n",
              "    <tr>\n",
              "      <th>mean</th>\n",
              "      <td>200171.040970</td>\n",
              "      <td>NaN</td>\n",
              "      <td>NaN</td>\n",
              "      <td>36.935372</td>\n",
              "      <td>NaN</td>\n",
              "      <td>NaN</td>\n",
              "      <td>NaN</td>\n",
              "      <td>NaN</td>\n",
              "      <td>33.140704</td>\n",
              "      <td>2.152145e+09</td>\n",
              "      <td>0.093646</td>\n",
              "    </tr>\n",
              "    <tr>\n",
              "      <th>std</th>\n",
              "      <td>115369.285024</td>\n",
              "      <td>NaN</td>\n",
              "      <td>NaN</td>\n",
              "      <td>18.322762</td>\n",
              "      <td>NaN</td>\n",
              "      <td>NaN</td>\n",
              "      <td>NaN</td>\n",
              "      <td>NaN</td>\n",
              "      <td>8.617733</td>\n",
              "      <td>1.248497e+09</td>\n",
              "      <td>0.291336</td>\n",
              "    </tr>\n",
              "    <tr>\n",
              "      <th>min</th>\n",
              "      <td>2.000000</td>\n",
              "      <td>NaN</td>\n",
              "      <td>NaN</td>\n",
              "      <td>9.000000</td>\n",
              "      <td>NaN</td>\n",
              "      <td>NaN</td>\n",
              "      <td>NaN</td>\n",
              "      <td>NaN</td>\n",
              "      <td>18.000000</td>\n",
              "      <td>5.209350e+04</td>\n",
              "      <td>0.000000</td>\n",
              "    </tr>\n",
              "    <tr>\n",
              "      <th>25%</th>\n",
              "      <td>100642.500000</td>\n",
              "      <td>NaN</td>\n",
              "      <td>NaN</td>\n",
              "      <td>22.000000</td>\n",
              "      <td>NaN</td>\n",
              "      <td>NaN</td>\n",
              "      <td>NaN</td>\n",
              "      <td>NaN</td>\n",
              "      <td>27.000000</td>\n",
              "      <td>1.085934e+09</td>\n",
              "      <td>0.000000</td>\n",
              "    </tr>\n",
              "    <tr>\n",
              "      <th>50%</th>\n",
              "      <td>199958.000000</td>\n",
              "      <td>NaN</td>\n",
              "      <td>NaN</td>\n",
              "      <td>35.000000</td>\n",
              "      <td>NaN</td>\n",
              "      <td>NaN</td>\n",
              "      <td>NaN</td>\n",
              "      <td>NaN</td>\n",
              "      <td>33.000000</td>\n",
              "      <td>2.154770e+09</td>\n",
              "      <td>0.000000</td>\n",
              "    </tr>\n",
              "    <tr>\n",
              "      <th>75%</th>\n",
              "      <td>300054.000000</td>\n",
              "      <td>NaN</td>\n",
              "      <td>NaN</td>\n",
              "      <td>49.000000</td>\n",
              "      <td>NaN</td>\n",
              "      <td>NaN</td>\n",
              "      <td>NaN</td>\n",
              "      <td>NaN</td>\n",
              "      <td>39.000000</td>\n",
              "      <td>3.243258e+09</td>\n",
              "      <td>0.000000</td>\n",
              "    </tr>\n",
              "    <tr>\n",
              "      <th>max</th>\n",
              "      <td>400000.000000</td>\n",
              "      <td>NaN</td>\n",
              "      <td>NaN</td>\n",
              "      <td>154.000000</td>\n",
              "      <td>NaN</td>\n",
              "      <td>NaN</td>\n",
              "      <td>NaN</td>\n",
              "      <td>NaN</td>\n",
              "      <td>76.000000</td>\n",
              "      <td>4.294850e+09</td>\n",
              "      <td>1.000000</td>\n",
              "    </tr>\n",
              "  </tbody>\n",
              "</table>\n",
              "</div>"
            ],
            "text/plain": [
              "              user_id          signup_time        purchase_time  \\\n",
              "count   151112.000000               151112               151112   \n",
              "unique            NaN               151112               150679   \n",
              "top               NaN  2015-04-17 16:05:06  2015-09-10 09:04:53   \n",
              "freq              NaN                    1                    3   \n",
              "mean    200171.040970                  NaN                  NaN   \n",
              "std     115369.285024                  NaN                  NaN   \n",
              "min          2.000000                  NaN                  NaN   \n",
              "25%     100642.500000                  NaN                  NaN   \n",
              "50%     199958.000000                  NaN                  NaN   \n",
              "75%     300054.000000                  NaN                  NaN   \n",
              "max     400000.000000                  NaN                  NaN   \n",
              "\n",
              "        purchase_value      device_id  source browser     sex            age  \\\n",
              "count    151112.000000         151112  151112  151112  151112  151112.000000   \n",
              "unique             NaN         137956       3       5       2            NaN   \n",
              "top                NaN  ITUMJCKWEYNDD     SEO  Chrome       M            NaN   \n",
              "freq               NaN             20   60615   61432   88293            NaN   \n",
              "mean         36.935372            NaN     NaN     NaN     NaN      33.140704   \n",
              "std          18.322762            NaN     NaN     NaN     NaN       8.617733   \n",
              "min           9.000000            NaN     NaN     NaN     NaN      18.000000   \n",
              "25%          22.000000            NaN     NaN     NaN     NaN      27.000000   \n",
              "50%          35.000000            NaN     NaN     NaN     NaN      33.000000   \n",
              "75%          49.000000            NaN     NaN     NaN     NaN      39.000000   \n",
              "max         154.000000            NaN     NaN     NaN     NaN      76.000000   \n",
              "\n",
              "          ip_address          class  \n",
              "count   1.511120e+05  151112.000000  \n",
              "unique           NaN            NaN  \n",
              "top              NaN            NaN  \n",
              "freq             NaN            NaN  \n",
              "mean    2.152145e+09       0.093646  \n",
              "std     1.248497e+09       0.291336  \n",
              "min     5.209350e+04       0.000000  \n",
              "25%     1.085934e+09       0.000000  \n",
              "50%     2.154770e+09       0.000000  \n",
              "75%     3.243258e+09       0.000000  \n",
              "max     4.294850e+09       1.000000  "
            ]
          },
          "metadata": {
            "tags": []
          },
          "execution_count": 4
        }
      ]
    },
    {
      "cell_type": "code",
      "metadata": {
        "colab_type": "code",
        "id": "nbp4KBhofrDT",
        "colab": {
          "base_uri": "https://localhost:8080/",
          "height": 204
        },
        "outputId": "b43ae0b4-7626-4922-cc1f-acbfdfb9954d"
      },
      "source": [
        "data1.head()"
      ],
      "execution_count": null,
      "outputs": [
        {
          "output_type": "execute_result",
          "data": {
            "text/html": [
              "<div>\n",
              "<style scoped>\n",
              "    .dataframe tbody tr th:only-of-type {\n",
              "        vertical-align: middle;\n",
              "    }\n",
              "\n",
              "    .dataframe tbody tr th {\n",
              "        vertical-align: top;\n",
              "    }\n",
              "\n",
              "    .dataframe thead th {\n",
              "        text-align: right;\n",
              "    }\n",
              "</style>\n",
              "<table border=\"1\" class=\"dataframe\">\n",
              "  <thead>\n",
              "    <tr style=\"text-align: right;\">\n",
              "      <th></th>\n",
              "      <th>user_id</th>\n",
              "      <th>signup_time</th>\n",
              "      <th>purchase_time</th>\n",
              "      <th>purchase_value</th>\n",
              "      <th>device_id</th>\n",
              "      <th>source</th>\n",
              "      <th>browser</th>\n",
              "      <th>sex</th>\n",
              "      <th>age</th>\n",
              "      <th>ip_address</th>\n",
              "      <th>class</th>\n",
              "    </tr>\n",
              "  </thead>\n",
              "  <tbody>\n",
              "    <tr>\n",
              "      <th>0</th>\n",
              "      <td>22058</td>\n",
              "      <td>2015-02-24 22:55:49</td>\n",
              "      <td>2015-04-18 02:47:11</td>\n",
              "      <td>34</td>\n",
              "      <td>QVPSPJUOCKZAR</td>\n",
              "      <td>SEO</td>\n",
              "      <td>Chrome</td>\n",
              "      <td>M</td>\n",
              "      <td>39</td>\n",
              "      <td>7.327584e+08</td>\n",
              "      <td>0</td>\n",
              "    </tr>\n",
              "    <tr>\n",
              "      <th>1</th>\n",
              "      <td>333320</td>\n",
              "      <td>2015-06-07 20:39:50</td>\n",
              "      <td>2015-06-08 01:38:54</td>\n",
              "      <td>16</td>\n",
              "      <td>EOGFQPIZPYXFZ</td>\n",
              "      <td>Ads</td>\n",
              "      <td>Chrome</td>\n",
              "      <td>F</td>\n",
              "      <td>53</td>\n",
              "      <td>3.503114e+08</td>\n",
              "      <td>0</td>\n",
              "    </tr>\n",
              "    <tr>\n",
              "      <th>2</th>\n",
              "      <td>1359</td>\n",
              "      <td>2015-01-01 18:52:44</td>\n",
              "      <td>2015-01-01 18:52:45</td>\n",
              "      <td>15</td>\n",
              "      <td>YSSKYOSJHPPLJ</td>\n",
              "      <td>SEO</td>\n",
              "      <td>Opera</td>\n",
              "      <td>M</td>\n",
              "      <td>53</td>\n",
              "      <td>2.621474e+09</td>\n",
              "      <td>1</td>\n",
              "    </tr>\n",
              "    <tr>\n",
              "      <th>3</th>\n",
              "      <td>150084</td>\n",
              "      <td>2015-04-28 21:13:25</td>\n",
              "      <td>2015-05-04 13:54:50</td>\n",
              "      <td>44</td>\n",
              "      <td>ATGTXKYKUDUQN</td>\n",
              "      <td>SEO</td>\n",
              "      <td>Safari</td>\n",
              "      <td>M</td>\n",
              "      <td>41</td>\n",
              "      <td>3.840542e+09</td>\n",
              "      <td>0</td>\n",
              "    </tr>\n",
              "    <tr>\n",
              "      <th>4</th>\n",
              "      <td>221365</td>\n",
              "      <td>2015-07-21 07:09:52</td>\n",
              "      <td>2015-09-09 18:40:53</td>\n",
              "      <td>39</td>\n",
              "      <td>NAUITBZFJKHWW</td>\n",
              "      <td>Ads</td>\n",
              "      <td>Safari</td>\n",
              "      <td>M</td>\n",
              "      <td>45</td>\n",
              "      <td>4.155831e+08</td>\n",
              "      <td>0</td>\n",
              "    </tr>\n",
              "  </tbody>\n",
              "</table>\n",
              "</div>"
            ],
            "text/plain": [
              "   user_id          signup_time        purchase_time  purchase_value  \\\n",
              "0    22058  2015-02-24 22:55:49  2015-04-18 02:47:11              34   \n",
              "1   333320  2015-06-07 20:39:50  2015-06-08 01:38:54              16   \n",
              "2     1359  2015-01-01 18:52:44  2015-01-01 18:52:45              15   \n",
              "3   150084  2015-04-28 21:13:25  2015-05-04 13:54:50              44   \n",
              "4   221365  2015-07-21 07:09:52  2015-09-09 18:40:53              39   \n",
              "\n",
              "       device_id source browser sex  age    ip_address  class  \n",
              "0  QVPSPJUOCKZAR    SEO  Chrome   M   39  7.327584e+08      0  \n",
              "1  EOGFQPIZPYXFZ    Ads  Chrome   F   53  3.503114e+08      0  \n",
              "2  YSSKYOSJHPPLJ    SEO   Opera   M   53  2.621474e+09      1  \n",
              "3  ATGTXKYKUDUQN    SEO  Safari   M   41  3.840542e+09      0  \n",
              "4  NAUITBZFJKHWW    Ads  Safari   M   45  4.155831e+08      0  "
            ]
          },
          "metadata": {
            "tags": []
          },
          "execution_count": 5
        }
      ]
    },
    {
      "cell_type": "code",
      "metadata": {
        "colab_type": "code",
        "id": "HIjawV2ofJF5",
        "colab": {}
      },
      "source": [
        "data2 = pd.read_csv(\"IpAddress_to_Country.csv\")"
      ],
      "execution_count": 5,
      "outputs": []
    },
    {
      "cell_type": "code",
      "metadata": {
        "colab_type": "code",
        "id": "chMyC4TBfR9f",
        "colab": {
          "base_uri": "https://localhost:8080/",
          "height": 187
        },
        "outputId": "79fa6777-8ebb-4610-cdf5-a26a837d60df"
      },
      "source": [
        "data2.info()"
      ],
      "execution_count": null,
      "outputs": [
        {
          "output_type": "stream",
          "text": [
            "<class 'pandas.core.frame.DataFrame'>\n",
            "RangeIndex: 138846 entries, 0 to 138845\n",
            "Data columns (total 3 columns):\n",
            " #   Column                  Non-Null Count   Dtype  \n",
            "---  ------                  --------------   -----  \n",
            " 0   lower_bound_ip_address  138846 non-null  float64\n",
            " 1   upper_bound_ip_address  138846 non-null  int64  \n",
            " 2   country                 138846 non-null  object \n",
            "dtypes: float64(1), int64(1), object(1)\n",
            "memory usage: 3.2+ MB\n"
          ],
          "name": "stdout"
        }
      ]
    },
    {
      "cell_type": "code",
      "metadata": {
        "colab_type": "code",
        "id": "wccs926kfXQj",
        "colab": {
          "base_uri": "https://localhost:8080/",
          "height": 390
        },
        "outputId": "e31a73ef-8ce1-46db-e5df-e63721fc33b8"
      },
      "source": [
        "data2.describe(include='all')"
      ],
      "execution_count": null,
      "outputs": [
        {
          "output_type": "execute_result",
          "data": {
            "text/html": [
              "<div>\n",
              "<style scoped>\n",
              "    .dataframe tbody tr th:only-of-type {\n",
              "        vertical-align: middle;\n",
              "    }\n",
              "\n",
              "    .dataframe tbody tr th {\n",
              "        vertical-align: top;\n",
              "    }\n",
              "\n",
              "    .dataframe thead th {\n",
              "        text-align: right;\n",
              "    }\n",
              "</style>\n",
              "<table border=\"1\" class=\"dataframe\">\n",
              "  <thead>\n",
              "    <tr style=\"text-align: right;\">\n",
              "      <th></th>\n",
              "      <th>lower_bound_ip_address</th>\n",
              "      <th>upper_bound_ip_address</th>\n",
              "      <th>country</th>\n",
              "    </tr>\n",
              "  </thead>\n",
              "  <tbody>\n",
              "    <tr>\n",
              "      <th>count</th>\n",
              "      <td>1.388460e+05</td>\n",
              "      <td>1.388460e+05</td>\n",
              "      <td>138846</td>\n",
              "    </tr>\n",
              "    <tr>\n",
              "      <th>unique</th>\n",
              "      <td>NaN</td>\n",
              "      <td>NaN</td>\n",
              "      <td>235</td>\n",
              "    </tr>\n",
              "    <tr>\n",
              "      <th>top</th>\n",
              "      <td>NaN</td>\n",
              "      <td>NaN</td>\n",
              "      <td>United States</td>\n",
              "    </tr>\n",
              "    <tr>\n",
              "      <th>freq</th>\n",
              "      <td>NaN</td>\n",
              "      <td>NaN</td>\n",
              "      <td>46868</td>\n",
              "    </tr>\n",
              "    <tr>\n",
              "      <th>mean</th>\n",
              "      <td>2.724532e+09</td>\n",
              "      <td>2.724557e+09</td>\n",
              "      <td>NaN</td>\n",
              "    </tr>\n",
              "    <tr>\n",
              "      <th>std</th>\n",
              "      <td>8.975215e+08</td>\n",
              "      <td>8.974979e+08</td>\n",
              "      <td>NaN</td>\n",
              "    </tr>\n",
              "    <tr>\n",
              "      <th>min</th>\n",
              "      <td>1.677722e+07</td>\n",
              "      <td>1.677747e+07</td>\n",
              "      <td>NaN</td>\n",
              "    </tr>\n",
              "    <tr>\n",
              "      <th>25%</th>\n",
              "      <td>1.919930e+09</td>\n",
              "      <td>1.920008e+09</td>\n",
              "      <td>NaN</td>\n",
              "    </tr>\n",
              "    <tr>\n",
              "      <th>50%</th>\n",
              "      <td>3.230887e+09</td>\n",
              "      <td>3.230888e+09</td>\n",
              "      <td>NaN</td>\n",
              "    </tr>\n",
              "    <tr>\n",
              "      <th>75%</th>\n",
              "      <td>3.350465e+09</td>\n",
              "      <td>3.350466e+09</td>\n",
              "      <td>NaN</td>\n",
              "    </tr>\n",
              "    <tr>\n",
              "      <th>max</th>\n",
              "      <td>3.758096e+09</td>\n",
              "      <td>3.758096e+09</td>\n",
              "      <td>NaN</td>\n",
              "    </tr>\n",
              "  </tbody>\n",
              "</table>\n",
              "</div>"
            ],
            "text/plain": [
              "        lower_bound_ip_address  upper_bound_ip_address        country\n",
              "count             1.388460e+05            1.388460e+05         138846\n",
              "unique                     NaN                     NaN            235\n",
              "top                        NaN                     NaN  United States\n",
              "freq                       NaN                     NaN          46868\n",
              "mean              2.724532e+09            2.724557e+09            NaN\n",
              "std               8.975215e+08            8.974979e+08            NaN\n",
              "min               1.677722e+07            1.677747e+07            NaN\n",
              "25%               1.919930e+09            1.920008e+09            NaN\n",
              "50%               3.230887e+09            3.230888e+09            NaN\n",
              "75%               3.350465e+09            3.350466e+09            NaN\n",
              "max               3.758096e+09            3.758096e+09            NaN"
            ]
          },
          "metadata": {
            "tags": []
          },
          "execution_count": 8
        }
      ]
    },
    {
      "cell_type": "code",
      "metadata": {
        "colab_type": "code",
        "id": "clN9ckkBf90-",
        "colab": {
          "base_uri": "https://localhost:8080/",
          "height": 204
        },
        "outputId": "e7f217f7-62de-4d6c-a1dd-0ce9dae80599"
      },
      "source": [
        "data2.head()"
      ],
      "execution_count": null,
      "outputs": [
        {
          "output_type": "execute_result",
          "data": {
            "text/html": [
              "<div>\n",
              "<style scoped>\n",
              "    .dataframe tbody tr th:only-of-type {\n",
              "        vertical-align: middle;\n",
              "    }\n",
              "\n",
              "    .dataframe tbody tr th {\n",
              "        vertical-align: top;\n",
              "    }\n",
              "\n",
              "    .dataframe thead th {\n",
              "        text-align: right;\n",
              "    }\n",
              "</style>\n",
              "<table border=\"1\" class=\"dataframe\">\n",
              "  <thead>\n",
              "    <tr style=\"text-align: right;\">\n",
              "      <th></th>\n",
              "      <th>lower_bound_ip_address</th>\n",
              "      <th>upper_bound_ip_address</th>\n",
              "      <th>country</th>\n",
              "    </tr>\n",
              "  </thead>\n",
              "  <tbody>\n",
              "    <tr>\n",
              "      <th>0</th>\n",
              "      <td>16777216.0</td>\n",
              "      <td>16777471</td>\n",
              "      <td>Australia</td>\n",
              "    </tr>\n",
              "    <tr>\n",
              "      <th>1</th>\n",
              "      <td>16777472.0</td>\n",
              "      <td>16777727</td>\n",
              "      <td>China</td>\n",
              "    </tr>\n",
              "    <tr>\n",
              "      <th>2</th>\n",
              "      <td>16777728.0</td>\n",
              "      <td>16778239</td>\n",
              "      <td>China</td>\n",
              "    </tr>\n",
              "    <tr>\n",
              "      <th>3</th>\n",
              "      <td>16778240.0</td>\n",
              "      <td>16779263</td>\n",
              "      <td>Australia</td>\n",
              "    </tr>\n",
              "    <tr>\n",
              "      <th>4</th>\n",
              "      <td>16779264.0</td>\n",
              "      <td>16781311</td>\n",
              "      <td>China</td>\n",
              "    </tr>\n",
              "  </tbody>\n",
              "</table>\n",
              "</div>"
            ],
            "text/plain": [
              "   lower_bound_ip_address  upper_bound_ip_address    country\n",
              "0              16777216.0                16777471  Australia\n",
              "1              16777472.0                16777727      China\n",
              "2              16777728.0                16778239      China\n",
              "3              16778240.0                16779263  Australia\n",
              "4              16779264.0                16781311      China"
            ]
          },
          "metadata": {
            "tags": []
          },
          "execution_count": 9
        }
      ]
    },
    {
      "cell_type": "code",
      "metadata": {
        "id": "VqRkbMIPa7OU",
        "colab_type": "code",
        "colab": {},
        "outputId": "8d5ec1cd-6f69-4e1e-ff79-ca5f1d25ac85"
      },
      "source": [
        "data1.head()"
      ],
      "execution_count": null,
      "outputs": [
        {
          "output_type": "execute_result",
          "data": {
            "text/html": [
              "<div>\n",
              "<style scoped>\n",
              "    .dataframe tbody tr th:only-of-type {\n",
              "        vertical-align: middle;\n",
              "    }\n",
              "\n",
              "    .dataframe tbody tr th {\n",
              "        vertical-align: top;\n",
              "    }\n",
              "\n",
              "    .dataframe thead th {\n",
              "        text-align: right;\n",
              "    }\n",
              "</style>\n",
              "<table border=\"1\" class=\"dataframe\">\n",
              "  <thead>\n",
              "    <tr style=\"text-align: right;\">\n",
              "      <th></th>\n",
              "      <th>user_id</th>\n",
              "      <th>signup_time</th>\n",
              "      <th>purchase_time</th>\n",
              "      <th>purchase_value</th>\n",
              "      <th>device_id</th>\n",
              "      <th>source</th>\n",
              "      <th>browser</th>\n",
              "      <th>sex</th>\n",
              "      <th>age</th>\n",
              "      <th>ip_address</th>\n",
              "      <th>class</th>\n",
              "      <th>spent_time</th>\n",
              "    </tr>\n",
              "  </thead>\n",
              "  <tbody>\n",
              "    <tr>\n",
              "      <th>0</th>\n",
              "      <td>22058</td>\n",
              "      <td>2015-02-24 22:55:49</td>\n",
              "      <td>2015-04-18 02:47:11</td>\n",
              "      <td>34</td>\n",
              "      <td>QVPSPJUOCKZAR</td>\n",
              "      <td>SEO</td>\n",
              "      <td>Chrome</td>\n",
              "      <td>M</td>\n",
              "      <td>39</td>\n",
              "      <td>7.327584e+08</td>\n",
              "      <td>0</td>\n",
              "      <td>52 days 03:51:22</td>\n",
              "    </tr>\n",
              "    <tr>\n",
              "      <th>1</th>\n",
              "      <td>333320</td>\n",
              "      <td>2015-06-07 20:39:50</td>\n",
              "      <td>2015-06-08 01:38:54</td>\n",
              "      <td>16</td>\n",
              "      <td>EOGFQPIZPYXFZ</td>\n",
              "      <td>Ads</td>\n",
              "      <td>Chrome</td>\n",
              "      <td>F</td>\n",
              "      <td>53</td>\n",
              "      <td>3.503114e+08</td>\n",
              "      <td>0</td>\n",
              "      <td>0 days 04:59:04</td>\n",
              "    </tr>\n",
              "    <tr>\n",
              "      <th>2</th>\n",
              "      <td>1359</td>\n",
              "      <td>2015-01-01 18:52:44</td>\n",
              "      <td>2015-01-01 18:52:45</td>\n",
              "      <td>15</td>\n",
              "      <td>YSSKYOSJHPPLJ</td>\n",
              "      <td>SEO</td>\n",
              "      <td>Opera</td>\n",
              "      <td>M</td>\n",
              "      <td>53</td>\n",
              "      <td>2.621474e+09</td>\n",
              "      <td>1</td>\n",
              "      <td>0 days 00:00:01</td>\n",
              "    </tr>\n",
              "    <tr>\n",
              "      <th>3</th>\n",
              "      <td>150084</td>\n",
              "      <td>2015-04-28 21:13:25</td>\n",
              "      <td>2015-05-04 13:54:50</td>\n",
              "      <td>44</td>\n",
              "      <td>ATGTXKYKUDUQN</td>\n",
              "      <td>SEO</td>\n",
              "      <td>Safari</td>\n",
              "      <td>M</td>\n",
              "      <td>41</td>\n",
              "      <td>3.840542e+09</td>\n",
              "      <td>0</td>\n",
              "      <td>5 days 16:41:25</td>\n",
              "    </tr>\n",
              "    <tr>\n",
              "      <th>4</th>\n",
              "      <td>221365</td>\n",
              "      <td>2015-07-21 07:09:52</td>\n",
              "      <td>2015-09-09 18:40:53</td>\n",
              "      <td>39</td>\n",
              "      <td>NAUITBZFJKHWW</td>\n",
              "      <td>Ads</td>\n",
              "      <td>Safari</td>\n",
              "      <td>M</td>\n",
              "      <td>45</td>\n",
              "      <td>4.155831e+08</td>\n",
              "      <td>0</td>\n",
              "      <td>50 days 11:31:01</td>\n",
              "    </tr>\n",
              "  </tbody>\n",
              "</table>\n",
              "</div>"
            ],
            "text/plain": [
              "   user_id         signup_time       purchase_time  purchase_value  \\\n",
              "0    22058 2015-02-24 22:55:49 2015-04-18 02:47:11              34   \n",
              "1   333320 2015-06-07 20:39:50 2015-06-08 01:38:54              16   \n",
              "2     1359 2015-01-01 18:52:44 2015-01-01 18:52:45              15   \n",
              "3   150084 2015-04-28 21:13:25 2015-05-04 13:54:50              44   \n",
              "4   221365 2015-07-21 07:09:52 2015-09-09 18:40:53              39   \n",
              "\n",
              "       device_id source browser sex  age    ip_address  class       spent_time  \n",
              "0  QVPSPJUOCKZAR    SEO  Chrome   M   39  7.327584e+08      0 52 days 03:51:22  \n",
              "1  EOGFQPIZPYXFZ    Ads  Chrome   F   53  3.503114e+08      0  0 days 04:59:04  \n",
              "2  YSSKYOSJHPPLJ    SEO   Opera   M   53  2.621474e+09      1  0 days 00:00:01  \n",
              "3  ATGTXKYKUDUQN    SEO  Safari   M   41  3.840542e+09      0  5 days 16:41:25  \n",
              "4  NAUITBZFJKHWW    Ads  Safari   M   45  4.155831e+08      0 50 days 11:31:01  "
            ]
          },
          "metadata": {
            "tags": []
          },
          "execution_count": 36
        }
      ]
    },
    {
      "cell_type": "markdown",
      "metadata": {
        "id": "6XR4V735N_c2",
        "colab_type": "text"
      },
      "source": [
        "**Let's find the country for each obervation from the IP adresses**\n",
        "\n",
        "\n",
        "\n"
      ]
    },
    {
      "cell_type": "code",
      "metadata": {
        "id": "CYFITqPba7OW",
        "colab_type": "code",
        "colab": {},
        "outputId": "22b433bb-08bb-4550-eff3-22c66b58c956"
      },
      "source": [
        "data1['ip_address'][0]"
      ],
      "execution_count": null,
      "outputs": [
        {
          "output_type": "execute_result",
          "data": {
            "text/plain": [
              "732758368.79972"
            ]
          },
          "metadata": {
            "tags": []
          },
          "execution_count": 37
        }
      ]
    },
    {
      "cell_type": "code",
      "metadata": {
        "id": "vyfMcOFoa7OZ",
        "colab_type": "code",
        "colab": {}
      },
      "source": [
        "ip_cible = data1['ip_address'][0]"
      ],
      "execution_count": 6,
      "outputs": []
    },
    {
      "cell_type": "code",
      "metadata": {
        "id": "6TZqaeCma7Ob",
        "colab_type": "code",
        "colab": {},
        "outputId": "6e91ca0d-7d37-4342-a8c4-9f392ce1505b"
      },
      "source": [
        "data2.head()"
      ],
      "execution_count": null,
      "outputs": [
        {
          "output_type": "execute_result",
          "data": {
            "text/html": [
              "<div>\n",
              "<style scoped>\n",
              "    .dataframe tbody tr th:only-of-type {\n",
              "        vertical-align: middle;\n",
              "    }\n",
              "\n",
              "    .dataframe tbody tr th {\n",
              "        vertical-align: top;\n",
              "    }\n",
              "\n",
              "    .dataframe thead th {\n",
              "        text-align: right;\n",
              "    }\n",
              "</style>\n",
              "<table border=\"1\" class=\"dataframe\">\n",
              "  <thead>\n",
              "    <tr style=\"text-align: right;\">\n",
              "      <th></th>\n",
              "      <th>lower_bound_ip_address</th>\n",
              "      <th>upper_bound_ip_address</th>\n",
              "      <th>country</th>\n",
              "    </tr>\n",
              "  </thead>\n",
              "  <tbody>\n",
              "    <tr>\n",
              "      <th>0</th>\n",
              "      <td>16777216.0</td>\n",
              "      <td>16777471</td>\n",
              "      <td>Australia</td>\n",
              "    </tr>\n",
              "    <tr>\n",
              "      <th>1</th>\n",
              "      <td>16777472.0</td>\n",
              "      <td>16777727</td>\n",
              "      <td>China</td>\n",
              "    </tr>\n",
              "    <tr>\n",
              "      <th>2</th>\n",
              "      <td>16777728.0</td>\n",
              "      <td>16778239</td>\n",
              "      <td>China</td>\n",
              "    </tr>\n",
              "    <tr>\n",
              "      <th>3</th>\n",
              "      <td>16778240.0</td>\n",
              "      <td>16779263</td>\n",
              "      <td>Australia</td>\n",
              "    </tr>\n",
              "    <tr>\n",
              "      <th>4</th>\n",
              "      <td>16779264.0</td>\n",
              "      <td>16781311</td>\n",
              "      <td>China</td>\n",
              "    </tr>\n",
              "  </tbody>\n",
              "</table>\n",
              "</div>"
            ],
            "text/plain": [
              "   lower_bound_ip_address  upper_bound_ip_address    country\n",
              "0              16777216.0                16777471  Australia\n",
              "1              16777472.0                16777727      China\n",
              "2              16777728.0                16778239      China\n",
              "3              16778240.0                16779263  Australia\n",
              "4              16779264.0                16781311      China"
            ]
          },
          "metadata": {
            "tags": []
          },
          "execution_count": 39
        }
      ]
    },
    {
      "cell_type": "code",
      "metadata": {
        "id": "tsISgzWfa7Oe",
        "colab_type": "code",
        "colab": {},
        "outputId": "9049fca3-611d-4aa6-9aa3-3499a52d9443"
      },
      "source": [
        "data2[(data2['lower_bound_ip_address'] <= ip_cible ) & (data2['upper_bound_ip_address'] > ip_cible)]['country'].iloc[0]"
      ],
      "execution_count": null,
      "outputs": [
        {
          "output_type": "execute_result",
          "data": {
            "text/plain": [
              "'Japan'"
            ]
          },
          "metadata": {
            "tags": []
          },
          "execution_count": 43
        }
      ]
    },
    {
      "cell_type": "code",
      "metadata": {
        "id": "gxcaWaZ2a7Og",
        "colab_type": "code",
        "colab": {}
      },
      "source": [
        "def ip_country(ip):\n",
        "    try:\n",
        "        country= data2[(data2['lower_bound_ip_address'] <= ip ) & (data2['upper_bound_ip_address'] > ip)]['country'].iloc[0]\n",
        "    except:\n",
        "        country='Unknown'\n",
        "        \n",
        "    return country\n"
      ],
      "execution_count": 7,
      "outputs": []
    },
    {
      "cell_type": "code",
      "metadata": {
        "id": "MUxxZ80Za7Oi",
        "colab_type": "code",
        "colab": {},
        "outputId": "1ca1d400-8554-4a6e-8874-16d1f491f9eb"
      },
      "source": [
        "ip_country(ip_cible)"
      ],
      "execution_count": null,
      "outputs": [
        {
          "output_type": "execute_result",
          "data": {
            "text/plain": [
              "'Japan'"
            ]
          },
          "metadata": {
            "tags": []
          },
          "execution_count": 45
        }
      ]
    },
    {
      "cell_type": "code",
      "metadata": {
        "id": "YxC-XT-3a7Ok",
        "colab_type": "code",
        "colab": {}
      },
      "source": [
        "data1['country'] = data1['ip_address'].apply(lambda x: ip_country(x))"
      ],
      "execution_count": 8,
      "outputs": []
    },
    {
      "cell_type": "code",
      "metadata": {
        "scrolled": true,
        "id": "DdjNVADWa7On",
        "colab_type": "code",
        "colab": {},
        "outputId": "6e7c2aa7-d57d-4807-c2d2-7a0847a804ca"
      },
      "source": [
        "data1.head()"
      ],
      "execution_count": null,
      "outputs": [
        {
          "output_type": "execute_result",
          "data": {
            "text/html": [
              "<div>\n",
              "<style scoped>\n",
              "    .dataframe tbody tr th:only-of-type {\n",
              "        vertical-align: middle;\n",
              "    }\n",
              "\n",
              "    .dataframe tbody tr th {\n",
              "        vertical-align: top;\n",
              "    }\n",
              "\n",
              "    .dataframe thead th {\n",
              "        text-align: right;\n",
              "    }\n",
              "</style>\n",
              "<table border=\"1\" class=\"dataframe\">\n",
              "  <thead>\n",
              "    <tr style=\"text-align: right;\">\n",
              "      <th></th>\n",
              "      <th>user_id</th>\n",
              "      <th>signup_time</th>\n",
              "      <th>purchase_time</th>\n",
              "      <th>purchase_value</th>\n",
              "      <th>device_id</th>\n",
              "      <th>source</th>\n",
              "      <th>browser</th>\n",
              "      <th>sex</th>\n",
              "      <th>age</th>\n",
              "      <th>ip_address</th>\n",
              "      <th>class</th>\n",
              "      <th>spent_time</th>\n",
              "      <th>country</th>\n",
              "    </tr>\n",
              "  </thead>\n",
              "  <tbody>\n",
              "    <tr>\n",
              "      <th>0</th>\n",
              "      <td>22058</td>\n",
              "      <td>2015-02-24 22:55:49</td>\n",
              "      <td>2015-04-18 02:47:11</td>\n",
              "      <td>34</td>\n",
              "      <td>QVPSPJUOCKZAR</td>\n",
              "      <td>SEO</td>\n",
              "      <td>Chrome</td>\n",
              "      <td>M</td>\n",
              "      <td>39</td>\n",
              "      <td>7.327584e+08</td>\n",
              "      <td>0</td>\n",
              "      <td>52 days 03:51:22</td>\n",
              "      <td>Japan</td>\n",
              "    </tr>\n",
              "    <tr>\n",
              "      <th>1</th>\n",
              "      <td>333320</td>\n",
              "      <td>2015-06-07 20:39:50</td>\n",
              "      <td>2015-06-08 01:38:54</td>\n",
              "      <td>16</td>\n",
              "      <td>EOGFQPIZPYXFZ</td>\n",
              "      <td>Ads</td>\n",
              "      <td>Chrome</td>\n",
              "      <td>F</td>\n",
              "      <td>53</td>\n",
              "      <td>3.503114e+08</td>\n",
              "      <td>0</td>\n",
              "      <td>0 days 04:59:04</td>\n",
              "      <td>United States</td>\n",
              "    </tr>\n",
              "    <tr>\n",
              "      <th>2</th>\n",
              "      <td>1359</td>\n",
              "      <td>2015-01-01 18:52:44</td>\n",
              "      <td>2015-01-01 18:52:45</td>\n",
              "      <td>15</td>\n",
              "      <td>YSSKYOSJHPPLJ</td>\n",
              "      <td>SEO</td>\n",
              "      <td>Opera</td>\n",
              "      <td>M</td>\n",
              "      <td>53</td>\n",
              "      <td>2.621474e+09</td>\n",
              "      <td>1</td>\n",
              "      <td>0 days 00:00:01</td>\n",
              "      <td>United States</td>\n",
              "    </tr>\n",
              "    <tr>\n",
              "      <th>3</th>\n",
              "      <td>150084</td>\n",
              "      <td>2015-04-28 21:13:25</td>\n",
              "      <td>2015-05-04 13:54:50</td>\n",
              "      <td>44</td>\n",
              "      <td>ATGTXKYKUDUQN</td>\n",
              "      <td>SEO</td>\n",
              "      <td>Safari</td>\n",
              "      <td>M</td>\n",
              "      <td>41</td>\n",
              "      <td>3.840542e+09</td>\n",
              "      <td>0</td>\n",
              "      <td>5 days 16:41:25</td>\n",
              "      <td>Unknown</td>\n",
              "    </tr>\n",
              "    <tr>\n",
              "      <th>4</th>\n",
              "      <td>221365</td>\n",
              "      <td>2015-07-21 07:09:52</td>\n",
              "      <td>2015-09-09 18:40:53</td>\n",
              "      <td>39</td>\n",
              "      <td>NAUITBZFJKHWW</td>\n",
              "      <td>Ads</td>\n",
              "      <td>Safari</td>\n",
              "      <td>M</td>\n",
              "      <td>45</td>\n",
              "      <td>4.155831e+08</td>\n",
              "      <td>0</td>\n",
              "      <td>50 days 11:31:01</td>\n",
              "      <td>United States</td>\n",
              "    </tr>\n",
              "  </tbody>\n",
              "</table>\n",
              "</div>"
            ],
            "text/plain": [
              "   user_id         signup_time       purchase_time  purchase_value  \\\n",
              "0    22058 2015-02-24 22:55:49 2015-04-18 02:47:11              34   \n",
              "1   333320 2015-06-07 20:39:50 2015-06-08 01:38:54              16   \n",
              "2     1359 2015-01-01 18:52:44 2015-01-01 18:52:45              15   \n",
              "3   150084 2015-04-28 21:13:25 2015-05-04 13:54:50              44   \n",
              "4   221365 2015-07-21 07:09:52 2015-09-09 18:40:53              39   \n",
              "\n",
              "       device_id source browser sex  age    ip_address  class  \\\n",
              "0  QVPSPJUOCKZAR    SEO  Chrome   M   39  7.327584e+08      0   \n",
              "1  EOGFQPIZPYXFZ    Ads  Chrome   F   53  3.503114e+08      0   \n",
              "2  YSSKYOSJHPPLJ    SEO   Opera   M   53  2.621474e+09      1   \n",
              "3  ATGTXKYKUDUQN    SEO  Safari   M   41  3.840542e+09      0   \n",
              "4  NAUITBZFJKHWW    Ads  Safari   M   45  4.155831e+08      0   \n",
              "\n",
              "        spent_time        country  \n",
              "0 52 days 03:51:22          Japan  \n",
              "1  0 days 04:59:04  United States  \n",
              "2  0 days 00:00:01  United States  \n",
              "3  5 days 16:41:25        Unknown  \n",
              "4 50 days 11:31:01  United States  "
            ]
          },
          "metadata": {
            "tags": []
          },
          "execution_count": 48
        }
      ]
    },
    {
      "cell_type": "code",
      "metadata": {
        "id": "-DXJla8wa7Op",
        "colab_type": "code",
        "colab": {}
      },
      "source": [
        "# We make a record of this new dataset including the column country\n",
        "data1.to_csv('Fraud_data_perfect.csv')"
      ],
      "execution_count": null,
      "outputs": []
    },
    {
      "cell_type": "code",
      "metadata": {
        "colab_type": "code",
        "id": "a5xgNDhXlmUv",
        "scrolled": true,
        "colab": {
          "base_uri": "https://localhost:8080/",
          "height": 221
        },
        "outputId": "f807cb77-f62e-4f9a-ef43-638173e78cd6"
      },
      "source": [
        "data1.isnull().sum()"
      ],
      "execution_count": null,
      "outputs": [
        {
          "output_type": "execute_result",
          "data": {
            "text/plain": [
              "user_id           0\n",
              "signup_time       0\n",
              "purchase_time     0\n",
              "purchase_value    0\n",
              "device_id         0\n",
              "source            0\n",
              "browser           0\n",
              "sex               0\n",
              "age               0\n",
              "ip_address        0\n",
              "class             0\n",
              "dtype: int64"
            ]
          },
          "metadata": {
            "tags": []
          },
          "execution_count": 10
        }
      ]
    },
    {
      "cell_type": "markdown",
      "metadata": {
        "colab_type": "text",
        "id": "I2m74laam8BO"
      },
      "source": [
        "## Data Visualization\n"
      ]
    },
    {
      "cell_type": "markdown",
      "metadata": {
        "colab_type": "text",
        "id": "M15iyzX3usX0"
      },
      "source": [
        "#### Single variable"
      ]
    },
    {
      "cell_type": "code",
      "metadata": {
        "colab_type": "code",
        "id": "EPvbOuXxnT2H",
        "colab": {
          "base_uri": "https://localhost:8080/",
          "height": 296
        },
        "outputId": "d6815976-f527-477a-d45e-58f1f9cb27c5"
      },
      "source": [
        "sns.countplot(data1['class'], palette='husl')"
      ],
      "execution_count": 10,
      "outputs": [
        {
          "output_type": "execute_result",
          "data": {
            "text/plain": [
              "<matplotlib.axes._subplots.AxesSubplot at 0x7f22069543c8>"
            ]
          },
          "metadata": {
            "tags": []
          },
          "execution_count": 10
        },
        {
          "output_type": "display_data",
          "data": {
            "image/png": "[encoded data removed]",
            "text/plain": [
              "<Figure size 432x288 with 1 Axes>"
            ]
          },
          "metadata": {
            "tags": [],
            "needs_background": "light"
          }
        }
      ]
    },
    {
      "cell_type": "markdown",
      "metadata": {
        "id": "5zsivcuNOjRI",
        "colab_type": "text"
      },
      "source": [
        "The dataset is unbalanced. We have fiew cases of fraud comparing to the non-fraud cases."
      ]
    },
    {
      "cell_type": "code",
      "metadata": {
        "colab_type": "code",
        "id": "cV65f5y4m9o9",
        "colab": {
          "base_uri": "https://localhost:8080/",
          "height": 297
        },
        "outputId": "a195c37d-cc60-4144-b405-34826a877b65"
      },
      "source": [
        "sns.distplot(data1['purchase_value'])"
      ],
      "execution_count": 13,
      "outputs": [
        {
          "output_type": "execute_result",
          "data": {
            "text/plain": [
              "<matplotlib.axes._subplots.AxesSubplot at 0x7f22067a5128>"
            ]
          },
          "metadata": {
            "tags": []
          },
          "execution_count": 13
        },
        {
          "output_type": "display_data",
          "data": {
            "image/png": "[encoded data removed]",
            "text/plain": [
              "<Figure size 432x288 with 1 Axes>"
            ]
          },
          "metadata": {
            "tags": [],
            "needs_background": "light"
          }
        }
      ]
    },
    {
      "cell_type": "markdown",
      "metadata": {
        "id": "5bE3qdMWPrVm",
        "colab_type": "text"
      },
      "source": [
        "The value of the purchase is between 20 and 60 dollars."
      ]
    },
    {
      "cell_type": "code",
      "metadata": {
        "colab_type": "code",
        "id": "c04d60QAncVY",
        "colab": {
          "base_uri": "https://localhost:8080/",
          "height": 296
        },
        "outputId": "5ed50525-5a29-4dac-dd4a-b061d9fc6864"
      },
      "source": [
        "sns.countplot(data1['source'])"
      ],
      "execution_count": 14,
      "outputs": [
        {
          "output_type": "execute_result",
          "data": {
            "text/plain": [
              "<matplotlib.axes._subplots.AxesSubplot at 0x7f22066f2240>"
            ]
          },
          "metadata": {
            "tags": []
          },
          "execution_count": 14
        },
        {
          "output_type": "display_data",
          "data": {
            "image/png": "[encoded data removed]",
            "text/plain": [
              "<Figure size 432x288 with 1 Axes>"
            ]
          },
          "metadata": {
            "tags": [],
            "needs_background": "light"
          }
        }
      ]
    },
    {
      "cell_type": "markdown",
      "metadata": {
        "id": "vpFl7ytdQFex",
        "colab_type": "text"
      },
      "source": [
        "Most of the visitors have been on the website thanks to ads or optimization methods to make the website more visible."
      ]
    },
    {
      "cell_type": "code",
      "metadata": {
        "colab_type": "code",
        "id": "CZQiTOFunlHL",
        "colab": {
          "base_uri": "https://localhost:8080/",
          "height": 575
        },
        "outputId": "28b614ee-5788-4568-fcc7-9c604f0f5ec4"
      },
      "source": [
        "sns.countplot(data1['browser'], palette='Paired')"
      ],
      "execution_count": 16,
      "outputs": [
        {
          "output_type": "execute_result",
          "data": {
            "text/plain": [
              "<matplotlib.axes._subplots.AxesSubplot at 0x7f220664e4a8>"
            ]
          },
          "metadata": {
            "tags": []
          },
          "execution_count": 15
        },
        {
          "output_type": "display_data",
          "data": {
            "image/png": "[encoded data removed]",
            "text/plain": [
              "<Figure size 432x288 with 1 Axes>"
            ]
          },
          "metadata": {
            "tags": [],
            "needs_background": "light"
          }
        },
        {
          "output_type": "execute_result",
          "data": {
            "text/plain": [
              "<matplotlib.axes._subplots.AxesSubplot at 0x7f2206638a58>"
            ]
          },
          "metadata": {
            "tags": []
          },
          "execution_count": 16
        },
        {
          "output_type": "display_data",
          "data": {
            "image/png": "[encoded data removed]",
            "text/plain": [
              "<Figure size 432x288 with 1 Axes>"
            ]
          },
          "metadata": {
            "tags": [],
            "needs_background": "light"
          }
        }
      ]
    },
    {
      "cell_type": "markdown",
      "metadata": {
        "id": "c8pTADijQlZX",
        "colab_type": "text"
      },
      "source": [
        "Chrome is the most used browser"
      ]
    },
    {
      "cell_type": "code",
      "metadata": {
        "colab_type": "code",
        "id": "Or58jEmynqlP",
        "colab": {
          "base_uri": "https://localhost:8080/",
          "height": 296
        },
        "outputId": "bc8e6d90-7277-49f3-ee51-64c442de25ad"
      },
      "source": [
        "sns.countplot(data1['sex'], palette='Paired')"
      ],
      "execution_count": 19,
      "outputs": [
        {
          "output_type": "execute_result",
          "data": {
            "text/plain": [
              "<matplotlib.axes._subplots.AxesSubplot at 0x7f22064b6b38>"
            ]
          },
          "metadata": {
            "tags": []
          },
          "execution_count": 19
        },
        {
          "output_type": "display_data",
          "data": {
            "image/png": "[encoded data removed]",
            "text/plain": [
              "<Figure size 432x288 with 1 Axes>"
            ]
          },
          "metadata": {
            "tags": [],
            "needs_background": "light"
          }
        }
      ]
    },
    {
      "cell_type": "code",
      "metadata": {
        "colab_type": "code",
        "id": "GowgBMMRnvPs",
        "colab": {
          "base_uri": "https://localhost:8080/",
          "height": 296
        },
        "outputId": "bd4a30a3-cd8d-4c88-af91-90de75e1a7f3"
      },
      "source": [
        "sns.distplot(data1['age'])"
      ],
      "execution_count": 18,
      "outputs": [
        {
          "output_type": "execute_result",
          "data": {
            "text/plain": [
              "<matplotlib.axes._subplots.AxesSubplot at 0x7f2206542b70>"
            ]
          },
          "metadata": {
            "tags": []
          },
          "execution_count": 18
        },
        {
          "output_type": "display_data",
          "data": {
            "image/png": "[encoded data removed]",
            "text/plain": [
              "<Figure size 432x288 with 1 Axes>"
            ]
          },
          "metadata": {
            "tags": [],
            "needs_background": "light"
          }
        }
      ]
    },
    {
      "cell_type": "markdown",
      "metadata": {
        "id": "bzta4uGAQvTy",
        "colab_type": "text"
      },
      "source": [
        "Most of the users are between 20 and 40 years old and most of them are men."
      ]
    },
    {
      "cell_type": "markdown",
      "metadata": {
        "id": "F1HIfaoROzWZ",
        "colab_type": "text"
      },
      "source": [
        "**We create a new feature Spent_time that shows how much time the user spent on the website**."
      ]
    },
    {
      "cell_type": "code",
      "metadata": {
        "colab_type": "code",
        "id": "pa09jmXwoSQb",
        "colab": {}
      },
      "source": [
        "from datetime import datetime \n",
        "data1['purchase_time'] = pd.to_datetime(data1['purchase_time'])\n",
        "data1['signup_time'] = pd.to_datetime(data1['signup_time'])\n"
      ],
      "execution_count": 20,
      "outputs": []
    },
    {
      "cell_type": "code",
      "metadata": {
        "colab_type": "code",
        "id": "Kv3a-O4gs6D3",
        "colab": {}
      },
      "source": [
        "spent_time = (data1['purchase_time'] - data1['signup_time'])"
      ],
      "execution_count": 21,
      "outputs": []
    },
    {
      "cell_type": "code",
      "metadata": {
        "colab_type": "code",
        "id": "O9ZnUi7dtuxZ",
        "colab": {
          "base_uri": "https://localhost:8080/",
          "height": 119
        },
        "outputId": "ff73c55b-33bf-452b-c1ce-a96b84e40c76"
      },
      "source": [
        "spent_time.head()"
      ],
      "execution_count": 22,
      "outputs": [
        {
          "output_type": "execute_result",
          "data": {
            "text/plain": [
              "0   52 days 03:51:22\n",
              "1    0 days 04:59:04\n",
              "2    0 days 00:00:01\n",
              "3    5 days 16:41:25\n",
              "4   50 days 11:31:01\n",
              "dtype: timedelta64[ns]"
            ]
          },
          "metadata": {
            "tags": []
          },
          "execution_count": 22
        }
      ]
    },
    {
      "cell_type": "code",
      "metadata": {
        "colab_type": "code",
        "id": "9iszHxr6t2FY",
        "colab": {}
      },
      "source": [
        "data1['spent_time']= data1['purchase_time'] - data1['signup_time']"
      ],
      "execution_count": 23,
      "outputs": []
    },
    {
      "cell_type": "code",
      "metadata": {
        "colab_type": "code",
        "id": "RuJG9gzbuSI7",
        "colab": {
          "base_uri": "https://localhost:8080/",
          "height": 204
        },
        "outputId": "6205bee7-fc66-4889-d465-4a81be008dae"
      },
      "source": [
        "data1.head()"
      ],
      "execution_count": 24,
      "outputs": [
        {
          "output_type": "execute_result",
          "data": {
            "text/html": [
              "<div>\n",
              "<style scoped>\n",
              "    .dataframe tbody tr th:only-of-type {\n",
              "        vertical-align: middle;\n",
              "    }\n",
              "\n",
              "    .dataframe tbody tr th {\n",
              "        vertical-align: top;\n",
              "    }\n",
              "\n",
              "    .dataframe thead th {\n",
              "        text-align: right;\n",
              "    }\n",
              "</style>\n",
              "<table border=\"1\" class=\"dataframe\">\n",
              "  <thead>\n",
              "    <tr style=\"text-align: right;\">\n",
              "      <th></th>\n",
              "      <th>user_id</th>\n",
              "      <th>signup_time</th>\n",
              "      <th>purchase_time</th>\n",
              "      <th>purchase_value</th>\n",
              "      <th>device_id</th>\n",
              "      <th>source</th>\n",
              "      <th>browser</th>\n",
              "      <th>sex</th>\n",
              "      <th>age</th>\n",
              "      <th>ip_address</th>\n",
              "      <th>class</th>\n",
              "      <th>country</th>\n",
              "      <th>spent_time</th>\n",
              "    </tr>\n",
              "  </thead>\n",
              "  <tbody>\n",
              "    <tr>\n",
              "      <th>0</th>\n",
              "      <td>22058</td>\n",
              "      <td>2015-02-24 22:55:49</td>\n",
              "      <td>2015-04-18 02:47:11</td>\n",
              "      <td>34</td>\n",
              "      <td>QVPSPJUOCKZAR</td>\n",
              "      <td>SEO</td>\n",
              "      <td>Chrome</td>\n",
              "      <td>M</td>\n",
              "      <td>39</td>\n",
              "      <td>7.327584e+08</td>\n",
              "      <td>0</td>\n",
              "      <td>Japan</td>\n",
              "      <td>52 days 03:51:22</td>\n",
              "    </tr>\n",
              "    <tr>\n",
              "      <th>1</th>\n",
              "      <td>333320</td>\n",
              "      <td>2015-06-07 20:39:50</td>\n",
              "      <td>2015-06-08 01:38:54</td>\n",
              "      <td>16</td>\n",
              "      <td>EOGFQPIZPYXFZ</td>\n",
              "      <td>Ads</td>\n",
              "      <td>Chrome</td>\n",
              "      <td>F</td>\n",
              "      <td>53</td>\n",
              "      <td>3.503114e+08</td>\n",
              "      <td>0</td>\n",
              "      <td>United States</td>\n",
              "      <td>0 days 04:59:04</td>\n",
              "    </tr>\n",
              "    <tr>\n",
              "      <th>2</th>\n",
              "      <td>1359</td>\n",
              "      <td>2015-01-01 18:52:44</td>\n",
              "      <td>2015-01-01 18:52:45</td>\n",
              "      <td>15</td>\n",
              "      <td>YSSKYOSJHPPLJ</td>\n",
              "      <td>SEO</td>\n",
              "      <td>Opera</td>\n",
              "      <td>M</td>\n",
              "      <td>53</td>\n",
              "      <td>2.621474e+09</td>\n",
              "      <td>1</td>\n",
              "      <td>United States</td>\n",
              "      <td>0 days 00:00:01</td>\n",
              "    </tr>\n",
              "    <tr>\n",
              "      <th>3</th>\n",
              "      <td>150084</td>\n",
              "      <td>2015-04-28 21:13:25</td>\n",
              "      <td>2015-05-04 13:54:50</td>\n",
              "      <td>44</td>\n",
              "      <td>ATGTXKYKUDUQN</td>\n",
              "      <td>SEO</td>\n",
              "      <td>Safari</td>\n",
              "      <td>M</td>\n",
              "      <td>41</td>\n",
              "      <td>3.840542e+09</td>\n",
              "      <td>0</td>\n",
              "      <td>Unknown</td>\n",
              "      <td>5 days 16:41:25</td>\n",
              "    </tr>\n",
              "    <tr>\n",
              "      <th>4</th>\n",
              "      <td>221365</td>\n",
              "      <td>2015-07-21 07:09:52</td>\n",
              "      <td>2015-09-09 18:40:53</td>\n",
              "      <td>39</td>\n",
              "      <td>NAUITBZFJKHWW</td>\n",
              "      <td>Ads</td>\n",
              "      <td>Safari</td>\n",
              "      <td>M</td>\n",
              "      <td>45</td>\n",
              "      <td>4.155831e+08</td>\n",
              "      <td>0</td>\n",
              "      <td>United States</td>\n",
              "      <td>50 days 11:31:01</td>\n",
              "    </tr>\n",
              "  </tbody>\n",
              "</table>\n",
              "</div>"
            ],
            "text/plain": [
              "   user_id         signup_time  ...        country       spent_time\n",
              "0    22058 2015-02-24 22:55:49  ...          Japan 52 days 03:51:22\n",
              "1   333320 2015-06-07 20:39:50  ...  United States  0 days 04:59:04\n",
              "2     1359 2015-01-01 18:52:44  ...  United States  0 days 00:00:01\n",
              "3   150084 2015-04-28 21:13:25  ...        Unknown  5 days 16:41:25\n",
              "4   221365 2015-07-21 07:09:52  ...  United States 50 days 11:31:01\n",
              "\n",
              "[5 rows x 13 columns]"
            ]
          },
          "metadata": {
            "tags": []
          },
          "execution_count": 24
        }
      ]
    },
    {
      "cell_type": "markdown",
      "metadata": {
        "colab_type": "text",
        "id": "QKIqO_J4uxv4"
      },
      "source": [
        "#### Features vs Target"
      ]
    },
    {
      "cell_type": "code",
      "metadata": {
        "id": "SVoQrbpXa7PJ",
        "colab_type": "code",
        "colab": {}
      },
      "source": [
        "dfclass0 = pd.DataFrame(data1[(data1['class']==0)]['spent_time'])\n",
        "dfclass1 = pd.DataFrame(data1[(data1['class']==1)]['spent_time'])\n",
        "\n"
      ],
      "execution_count": 25,
      "outputs": []
    },
    {
      "cell_type": "code",
      "metadata": {
        "id": "zCCHHL6Z1lAp",
        "colab_type": "code",
        "colab": {
          "base_uri": "https://localhost:8080/",
          "height": 577
        },
        "outputId": "6292e5fa-af3e-4092-c887-ea1802b3333c"
      },
      "source": [
        "sns.distplot(data1['spent_time'].value_counts())"
      ],
      "execution_count": 27,
      "outputs": [
        {
          "output_type": "execute_result",
          "data": {
            "text/plain": [
              "<matplotlib.axes._subplots.AxesSubplot at 0x7f220642b4e0>"
            ]
          },
          "metadata": {
            "tags": []
          },
          "execution_count": 26
        },
        {
          "output_type": "display_data",
          "data": {
            "image/png": "[encoded data removed]",
            "text/plain": [
              "<Figure size 432x288 with 1 Axes>"
            ]
          },
          "metadata": {
            "tags": [],
            "needs_background": "light"
          }
        },
        {
          "output_type": "execute_result",
          "data": {
            "text/plain": [
              "<matplotlib.axes._subplots.AxesSubplot at 0x7f2208d9d5c0>"
            ]
          },
          "metadata": {
            "tags": []
          },
          "execution_count": 27
        },
        {
          "output_type": "display_data",
          "data": {
            "image/png": "[encoded data removed]",
            "text/plain": [
              "<Figure size 432x288 with 1 Axes>"
            ]
          },
          "metadata": {
            "tags": [],
            "needs_background": "light"
          }
        }
      ]
    },
    {
      "cell_type": "markdown",
      "metadata": {
        "id": "LION3oT3RH7r",
        "colab_type": "text"
      },
      "source": [
        "It seems that fraudulent transactions are made very fast, the time spent on the website lasts few seconds."
      ]
    },
    {
      "cell_type": "code",
      "metadata": {
        "colab_type": "code",
        "id": "52DWC6SgQwS3",
        "scrolled": true,
        "colab": {
          "base_uri": "https://localhost:8080/",
          "height": 386
        },
        "outputId": "fde7e71a-7477-4231-c343-a95ca1bb439f"
      },
      "source": [
        "sns.catplot(x='source', y='class', data=data1, kind='bar', palette='Set2')"
      ],
      "execution_count": 28,
      "outputs": [
        {
          "output_type": "execute_result",
          "data": {
            "text/plain": [
              "<seaborn.axisgrid.FacetGrid at 0x7f2208d01e10>"
            ]
          },
          "metadata": {
            "tags": []
          },
          "execution_count": 28
        },
        {
          "output_type": "display_data",
          "data": {
            "image/png": "[encoded data removed]",
            "text/plain": [
              "<Figure size 360x360 with 1 Axes>"
            ]
          },
          "metadata": {
            "tags": [],
            "needs_background": "light"
          }
        }
      ]
    },
    {
      "cell_type": "code",
      "metadata": {
        "colab_type": "code",
        "id": "rkcmA9cgR-xa",
        "colab": {
          "base_uri": "https://localhost:8080/",
          "height": 386
        },
        "outputId": "aa417443-3b0a-4d2d-a0b9-fbd3eb7af4b5"
      },
      "source": [
        "sns.catplot(x='browser', y='class', data=data1, kind='bar', palette='Paired')"
      ],
      "execution_count": 29,
      "outputs": [
        {
          "output_type": "execute_result",
          "data": {
            "text/plain": [
              "<seaborn.axisgrid.FacetGrid at 0x7f2206802b38>"
            ]
          },
          "metadata": {
            "tags": []
          },
          "execution_count": 29
        },
        {
          "output_type": "display_data",
          "data": {
            "image/png": "[encoded data removed]",
            "text/plain": [
              "<Figure size 360x360 with 1 Axes>"
            ]
          },
          "metadata": {
            "tags": [],
            "needs_background": "light"
          }
        }
      ]
    },
    {
      "cell_type": "code",
      "metadata": {
        "colab_type": "code",
        "id": "4aUWi1RfSElj",
        "colab": {
          "base_uri": "https://localhost:8080/",
          "height": 386
        },
        "outputId": "c5a39856-ea85-4d0b-a010-1ad381580166"
      },
      "source": [
        "sns.catplot(x='sex', y='class', data=data1, kind='bar', palette='husl')"
      ],
      "execution_count": 30,
      "outputs": [
        {
          "output_type": "execute_result",
          "data": {
            "text/plain": [
              "<seaborn.axisgrid.FacetGrid at 0x7f2206530940>"
            ]
          },
          "metadata": {
            "tags": []
          },
          "execution_count": 30
        },
        {
          "output_type": "display_data",
          "data": {
            "image/png": "[encoded data removed]",
            "text/plain": [
              "<Figure size 360x360 with 1 Axes>"
            ]
          },
          "metadata": {
            "tags": [],
            "needs_background": "light"
          }
        }
      ]
    },
    {
      "cell_type": "code",
      "metadata": {
        "colab_type": "code",
        "id": "9mUSyXnkSLja",
        "colab": {
          "base_uri": "https://localhost:8080/",
          "height": 386
        },
        "outputId": "c395753d-05b3-475f-904a-6a6e8d1efc4a"
      },
      "source": [
        "sns.relplot(x='age', y='class', data=data1, kind='line')"
      ],
      "execution_count": 31,
      "outputs": [
        {
          "output_type": "execute_result",
          "data": {
            "text/plain": [
              "<seaborn.axisgrid.FacetGrid at 0x7f220640a860>"
            ]
          },
          "metadata": {
            "tags": []
          },
          "execution_count": 31
        },
        {
          "output_type": "display_data",
          "data": {
            "image/png": "[encoded data removed]",
            "text/plain": [
              "<Figure size 360x360 with 1 Axes>"
            ]
          },
          "metadata": {
            "tags": [],
            "needs_background": "light"
          }
        }
      ]
    },
    {
      "cell_type": "code",
      "metadata": {
        "colab_type": "code",
        "id": "pMMBjrXVSqeS",
        "colab": {
          "base_uri": "https://localhost:8080/",
          "height": 386
        },
        "outputId": "eac651c2-3724-4433-ae47-5c87f3598e90"
      },
      "source": [
        "sns.relplot(x='purchase_value', y='class', data=data1, kind='line')"
      ],
      "execution_count": 32,
      "outputs": [
        {
          "output_type": "execute_result",
          "data": {
            "text/plain": [
              "<seaborn.axisgrid.FacetGrid at 0x7f220656ec18>"
            ]
          },
          "metadata": {
            "tags": []
          },
          "execution_count": 32
        },
        {
          "output_type": "display_data",
          "data": {
            "image/png": "[encoded data removed]",
            "text/plain": [
              "<Figure size 360x360 with 1 Axes>"
            ]
          },
          "metadata": {
            "tags": [],
            "needs_background": "light"
          }
        }
      ]
    },
    {
      "cell_type": "code",
      "metadata": {
        "colab_type": "code",
        "id": "JNAxH7X8S832",
        "colab": {
          "base_uri": "https://localhost:8080/",
          "height": 299
        },
        "outputId": "12ee12af-4efa-4ca8-c1cb-c66a17bd040f"
      },
      "source": [
        "sns.boxplot(x='class', y='purchase_value', data=data1)"
      ],
      "execution_count": 33,
      "outputs": [
        {
          "output_type": "execute_result",
          "data": {
            "text/plain": [
              "<matplotlib.axes._subplots.AxesSubplot at 0x7f2208ba89b0>"
            ]
          },
          "metadata": {
            "tags": []
          },
          "execution_count": 33
        },
        {
          "output_type": "display_data",
          "data": {
            "image/png": "[encoded data removed]",
            "text/plain": [
              "<Figure size 432x288 with 1 Axes>"
            ]
          },
          "metadata": {
            "tags": [],
            "needs_background": "light"
          }
        }
      ]
    },
    {
      "cell_type": "code",
      "metadata": {
        "colab_type": "code",
        "id": "6q9TOZ4OTo6y",
        "colab": {
          "base_uri": "https://localhost:8080/",
          "height": 34
        },
        "outputId": "e4771a39-f1e6-4718-89bf-9365b0d1c3cd"
      },
      "source": [
        "data1['purchase_value'].mean()"
      ],
      "execution_count": 34,
      "outputs": [
        {
          "output_type": "execute_result",
          "data": {
            "text/plain": [
              "36.93537243898565"
            ]
          },
          "metadata": {
            "tags": []
          },
          "execution_count": 34
        }
      ]
    },
    {
      "cell_type": "code",
      "metadata": {
        "colab_type": "code",
        "id": "awqK-6jdUl6i",
        "colab": {
          "base_uri": "https://localhost:8080/",
          "height": 355
        },
        "outputId": "c283779f-2f33-4a1d-df1b-72f2bf6e288b"
      },
      "source": [
        "sns.heatmap(data=data1.corr(), annot=True)"
      ],
      "execution_count": 35,
      "outputs": [
        {
          "output_type": "execute_result",
          "data": {
            "text/plain": [
              "<matplotlib.axes._subplots.AxesSubplot at 0x7f2208b6c6a0>"
            ]
          },
          "metadata": {
            "tags": []
          },
          "execution_count": 35
        },
        {
          "output_type": "display_data",
          "data": {
            "image/png": "[encoded data removed]",
            "text/plain": [
              "<Figure size 432x288 with 2 Axes>"
            ]
          },
          "metadata": {
            "tags": [],
            "needs_background": "light"
          }
        }
      ]
    },
    {
      "cell_type": "markdown",
      "metadata": {
        "id": "KqOjZelTS5kA",
        "colab_type": "text"
      },
      "source": [
        "**Profile behind the fraudulent transaction:**\n",
        "We see that users who make frauds are generally going directly on the website (without passing by ads or seo) and make a transaction very fast before leaving the website. The purchase value is around 40 dollars and the user is around 60 years old"
      ]
    },
    {
      "cell_type": "markdown",
      "metadata": {
        "colab_type": "text",
        "id": "PXWu23FJzIMz"
      },
      "source": [
        "## Machine Learning\n",
        "\n"
      ]
    },
    {
      "cell_type": "code",
      "metadata": {
        "id": "VOoC4V7vg2Vx",
        "colab_type": "code",
        "colab": {}
      },
      "source": [
        "fraud = pd.read_csv('Fraud_data_perfect.csv', index_col= 0)"
      ],
      "execution_count": 3,
      "outputs": []
    },
    {
      "cell_type": "markdown",
      "metadata": {
        "id": "6LwP9juuPnid",
        "colab_type": "text"
      },
      "source": [
        "We create again the spent time column in the new dataset fraud."
      ]
    },
    {
      "cell_type": "code",
      "metadata": {
        "id": "C_aLXVNHyOD3",
        "colab_type": "code",
        "colab": {}
      },
      "source": [
        "fraud['purchase_time'] = pd.to_datetime(fraud['purchase_time'])\n",
        "fraud['signup_time'] = pd.to_datetime(fraud['signup_time'])"
      ],
      "execution_count": 4,
      "outputs": []
    },
    {
      "cell_type": "code",
      "metadata": {
        "id": "yZYOSf0NyWQz",
        "colab_type": "code",
        "colab": {}
      },
      "source": [
        "fraud['spent_time'] = (fraud['purchase_time'] - fraud['signup_time'])"
      ],
      "execution_count": 5,
      "outputs": []
    },
    {
      "cell_type": "code",
      "metadata": {
        "id": "yc1djhhNPkPb",
        "colab_type": "code",
        "colab": {
          "base_uri": "https://localhost:8080/",
          "height": 289
        },
        "outputId": "6a9b53ff-6405-410f-e109-c59dfc6e7846"
      },
      "source": [
        "fraud.head()"
      ],
      "execution_count": null,
      "outputs": [
        {
          "output_type": "execute_result",
          "data": {
            "text/html": [
              "<div>\n",
              "<style scoped>\n",
              "    .dataframe tbody tr th:only-of-type {\n",
              "        vertical-align: middle;\n",
              "    }\n",
              "\n",
              "    .dataframe tbody tr th {\n",
              "        vertical-align: top;\n",
              "    }\n",
              "\n",
              "    .dataframe thead th {\n",
              "        text-align: right;\n",
              "    }\n",
              "</style>\n",
              "<table border=\"1\" class=\"dataframe\">\n",
              "  <thead>\n",
              "    <tr style=\"text-align: right;\">\n",
              "      <th></th>\n",
              "      <th>user_id</th>\n",
              "      <th>signup_time</th>\n",
              "      <th>purchase_time</th>\n",
              "      <th>purchase_value</th>\n",
              "      <th>device_id</th>\n",
              "      <th>source</th>\n",
              "      <th>browser</th>\n",
              "      <th>sex</th>\n",
              "      <th>age</th>\n",
              "      <th>ip_address</th>\n",
              "      <th>class</th>\n",
              "      <th>spent_time</th>\n",
              "      <th>country</th>\n",
              "    </tr>\n",
              "  </thead>\n",
              "  <tbody>\n",
              "    <tr>\n",
              "      <th>0</th>\n",
              "      <td>22058</td>\n",
              "      <td>2015-02-24 22:55:49</td>\n",
              "      <td>2015-04-18 02:47:11</td>\n",
              "      <td>34</td>\n",
              "      <td>QVPSPJUOCKZAR</td>\n",
              "      <td>SEO</td>\n",
              "      <td>Chrome</td>\n",
              "      <td>M</td>\n",
              "      <td>39</td>\n",
              "      <td>7.327584e+08</td>\n",
              "      <td>0</td>\n",
              "      <td>52 days 03:51:22.000000000</td>\n",
              "      <td>Japan</td>\n",
              "    </tr>\n",
              "    <tr>\n",
              "      <th>1</th>\n",
              "      <td>333320</td>\n",
              "      <td>2015-06-07 20:39:50</td>\n",
              "      <td>2015-06-08 01:38:54</td>\n",
              "      <td>16</td>\n",
              "      <td>EOGFQPIZPYXFZ</td>\n",
              "      <td>Ads</td>\n",
              "      <td>Chrome</td>\n",
              "      <td>F</td>\n",
              "      <td>53</td>\n",
              "      <td>3.503114e+08</td>\n",
              "      <td>0</td>\n",
              "      <td>0 days 04:59:04.000000000</td>\n",
              "      <td>United States</td>\n",
              "    </tr>\n",
              "    <tr>\n",
              "      <th>2</th>\n",
              "      <td>1359</td>\n",
              "      <td>2015-01-01 18:52:44</td>\n",
              "      <td>2015-01-01 18:52:45</td>\n",
              "      <td>15</td>\n",
              "      <td>YSSKYOSJHPPLJ</td>\n",
              "      <td>SEO</td>\n",
              "      <td>Opera</td>\n",
              "      <td>M</td>\n",
              "      <td>53</td>\n",
              "      <td>2.621474e+09</td>\n",
              "      <td>1</td>\n",
              "      <td>0 days 00:00:01.000000000</td>\n",
              "      <td>United States</td>\n",
              "    </tr>\n",
              "    <tr>\n",
              "      <th>3</th>\n",
              "      <td>150084</td>\n",
              "      <td>2015-04-28 21:13:25</td>\n",
              "      <td>2015-05-04 13:54:50</td>\n",
              "      <td>44</td>\n",
              "      <td>ATGTXKYKUDUQN</td>\n",
              "      <td>SEO</td>\n",
              "      <td>Safari</td>\n",
              "      <td>M</td>\n",
              "      <td>41</td>\n",
              "      <td>3.840542e+09</td>\n",
              "      <td>0</td>\n",
              "      <td>5 days 16:41:25.000000000</td>\n",
              "      <td>Unknown</td>\n",
              "    </tr>\n",
              "    <tr>\n",
              "      <th>4</th>\n",
              "      <td>221365</td>\n",
              "      <td>2015-07-21 07:09:52</td>\n",
              "      <td>2015-09-09 18:40:53</td>\n",
              "      <td>39</td>\n",
              "      <td>NAUITBZFJKHWW</td>\n",
              "      <td>Ads</td>\n",
              "      <td>Safari</td>\n",
              "      <td>M</td>\n",
              "      <td>45</td>\n",
              "      <td>4.155831e+08</td>\n",
              "      <td>0</td>\n",
              "      <td>50 days 11:31:01.000000000</td>\n",
              "      <td>United States</td>\n",
              "    </tr>\n",
              "  </tbody>\n",
              "</table>\n",
              "</div>"
            ],
            "text/plain": [
              "   user_id         signup_time  ...                  spent_time        country\n",
              "0    22058 2015-02-24 22:55:49  ...  52 days 03:51:22.000000000          Japan\n",
              "1   333320 2015-06-07 20:39:50  ...   0 days 04:59:04.000000000  United States\n",
              "2     1359 2015-01-01 18:52:44  ...   0 days 00:00:01.000000000  United States\n",
              "3   150084 2015-04-28 21:13:25  ...   5 days 16:41:25.000000000        Unknown\n",
              "4   221365 2015-07-21 07:09:52  ...  50 days 11:31:01.000000000  United States\n",
              "\n",
              "[5 rows x 13 columns]"
            ]
          },
          "metadata": {
            "tags": []
          },
          "execution_count": 6
        }
      ]
    },
    {
      "cell_type": "markdown",
      "metadata": {
        "id": "0Ld-1Yk0a7Pc",
        "colab_type": "text"
      },
      "source": [
        "### Preprocessing"
      ]
    },
    {
      "cell_type": "markdown",
      "metadata": {
        "id": "C26lUOyjHlAA",
        "colab_type": "text"
      },
      "source": [
        "Let's handle the 'country' columns to keep only the main countries where there are frauds.\n"
      ]
    },
    {
      "cell_type": "code",
      "metadata": {
        "id": "xeVqM6UncBmn",
        "colab_type": "code",
        "colab": {
          "base_uri": "https://localhost:8080/",
          "height": 34
        },
        "outputId": "e4f196e8-d4c6-4955-afbf-0a653905c0dc"
      },
      "source": [
        "fraud['country'].isnull().sum()"
      ],
      "execution_count": null,
      "outputs": [
        {
          "output_type": "execute_result",
          "data": {
            "text/plain": [
              "0"
            ]
          },
          "metadata": {
            "tags": []
          },
          "execution_count": 6
        }
      ]
    },
    {
      "cell_type": "code",
      "metadata": {
        "id": "-apdz16mCyPH",
        "colab_type": "code",
        "colab": {
          "base_uri": "https://localhost:8080/",
          "height": 221
        },
        "outputId": "bc09b6f3-ff9a-4441-90df-e1f81c1a7c62"
      },
      "source": [
        "fraud[fraud['class']==1]['country'].value_counts()"
      ],
      "execution_count": null,
      "outputs": [
        {
          "output_type": "execute_result",
          "data": {
            "text/plain": [
              "United States             5551\n",
              "Unknown                   1883\n",
              "China                     1043\n",
              "Japan                      715\n",
              "United Kingdom             477\n",
              "                          ... \n",
              "Malawi                       1\n",
              "Angola                       1\n",
              "Bosnia and Herzegowina       1\n",
              "Guatemala                    1\n",
              "Montenegro                   1\n",
              "Name: country, Length: 110, dtype: int64"
            ]
          },
          "metadata": {
            "tags": []
          },
          "execution_count": 7
        }
      ]
    },
    {
      "cell_type": "code",
      "metadata": {
        "id": "SoMi4y0RC4SK",
        "colab_type": "code",
        "colab": {}
      },
      "source": [
        "fraud['country'] = fraud['country'].apply(lambda x: x if (x == 'United States') | (x =='China') | (x=='Japan') | (x== 'United Kingdom') else \"Other\")"
      ],
      "execution_count": 6,
      "outputs": []
    },
    {
      "cell_type": "code",
      "metadata": {
        "id": "ZrbqWjBbGxxQ",
        "colab_type": "code",
        "colab": {
          "base_uri": "https://localhost:8080/",
          "height": 255
        },
        "outputId": "0f0a7367-4879-45c8-920f-db4561bb32c0"
      },
      "source": [
        "fraud.iloc[1]"
      ],
      "execution_count": 10,
      "outputs": [
        {
          "output_type": "execute_result",
          "data": {
            "text/plain": [
              "user_id                        333320\n",
              "signup_time       2015-06-07 20:39:50\n",
              "purchase_time     2015-06-08 01:38:54\n",
              "purchase_value                     16\n",
              "device_id               EOGFQPIZPYXFZ\n",
              "source                            Ads\n",
              "browser                        Chrome\n",
              "sex                                 F\n",
              "age                                53\n",
              "ip_address                3.50311e+08\n",
              "class                               0\n",
              "spent_time            0 days 04:59:04\n",
              "country                 United States\n",
              "Name: 1, dtype: object"
            ]
          },
          "metadata": {
            "tags": []
          },
          "execution_count": 10
        }
      ]
    },
    {
      "cell_type": "markdown",
      "metadata": {
        "id": "yys9TKSlHtV2",
        "colab_type": "text"
      },
      "source": [
        "Let's handle the spent_time to create a new column that distinguish short periods spent on the website (2 seconds or less) vs longer periods. Short periods mainly mean that it is a fraud."
      ]
    },
    {
      "cell_type": "code",
      "metadata": {
        "id": "_gtCNjtE3Veq",
        "colab_type": "code",
        "colab": {
          "base_uri": "https://localhost:8080/",
          "height": 51
        },
        "outputId": "e94c8544-555b-4427-e468-33dd30e69140"
      },
      "source": [
        "fraud[fraud['spent_time'] < pd.Timedelta('2 seconds')]['class'].value_counts()"
      ],
      "execution_count": 11,
      "outputs": [
        {
          "output_type": "execute_result",
          "data": {
            "text/plain": [
              "1    7600\n",
              "Name: class, dtype: int64"
            ]
          },
          "metadata": {
            "tags": []
          },
          "execution_count": 11
        }
      ]
    },
    {
      "cell_type": "code",
      "metadata": {
        "id": "3X7QIGbiCvn0",
        "colab_type": "code",
        "colab": {}
      },
      "source": [
        "fraud['time'] = fraud['spent_time'].apply(lambda x: 'short' if x < pd.Timedelta('2 seconds')\n",
        "                                          else 'long')"
      ],
      "execution_count": 12,
      "outputs": []
    },
    {
      "cell_type": "markdown",
      "metadata": {
        "id": "4iOd_r02cUL9",
        "colab_type": "text"
      },
      "source": [
        "We keep spent time and withdraw the other 'datetype' features.\n",
        "Also, we withdraw 'device_id and user_id as unique values.\n"
      ]
    },
    {
      "cell_type": "code",
      "metadata": {
        "id": "vM-OvjcFzeFj",
        "colab_type": "code",
        "colab": {}
      },
      "source": [
        "fraud_new = fraud.drop(['signup_time','purchase_time','device_id','user_id','spent_time'], axis=1)"
      ],
      "execution_count": 13,
      "outputs": []
    },
    {
      "cell_type": "code",
      "metadata": {
        "id": "kcAoduUtzrQt",
        "colab_type": "code",
        "colab": {
          "base_uri": "https://localhost:8080/",
          "height": 204
        },
        "outputId": "e94da41e-e61f-47d9-da69-ba6da918ce3d"
      },
      "source": [
        "fraud_new.head()"
      ],
      "execution_count": 14,
      "outputs": [
        {
          "output_type": "execute_result",
          "data": {
            "text/html": [
              "<div>\n",
              "<style scoped>\n",
              "    .dataframe tbody tr th:only-of-type {\n",
              "        vertical-align: middle;\n",
              "    }\n",
              "\n",
              "    .dataframe tbody tr th {\n",
              "        vertical-align: top;\n",
              "    }\n",
              "\n",
              "    .dataframe thead th {\n",
              "        text-align: right;\n",
              "    }\n",
              "</style>\n",
              "<table border=\"1\" class=\"dataframe\">\n",
              "  <thead>\n",
              "    <tr style=\"text-align: right;\">\n",
              "      <th></th>\n",
              "      <th>purchase_value</th>\n",
              "      <th>source</th>\n",
              "      <th>browser</th>\n",
              "      <th>sex</th>\n",
              "      <th>age</th>\n",
              "      <th>ip_address</th>\n",
              "      <th>class</th>\n",
              "      <th>country</th>\n",
              "      <th>time</th>\n",
              "    </tr>\n",
              "  </thead>\n",
              "  <tbody>\n",
              "    <tr>\n",
              "      <th>0</th>\n",
              "      <td>34</td>\n",
              "      <td>SEO</td>\n",
              "      <td>Chrome</td>\n",
              "      <td>M</td>\n",
              "      <td>39</td>\n",
              "      <td>7.327584e+08</td>\n",
              "      <td>0</td>\n",
              "      <td>Japan</td>\n",
              "      <td>long</td>\n",
              "    </tr>\n",
              "    <tr>\n",
              "      <th>1</th>\n",
              "      <td>16</td>\n",
              "      <td>Ads</td>\n",
              "      <td>Chrome</td>\n",
              "      <td>F</td>\n",
              "      <td>53</td>\n",
              "      <td>3.503114e+08</td>\n",
              "      <td>0</td>\n",
              "      <td>United States</td>\n",
              "      <td>long</td>\n",
              "    </tr>\n",
              "    <tr>\n",
              "      <th>2</th>\n",
              "      <td>15</td>\n",
              "      <td>SEO</td>\n",
              "      <td>Opera</td>\n",
              "      <td>M</td>\n",
              "      <td>53</td>\n",
              "      <td>2.621474e+09</td>\n",
              "      <td>1</td>\n",
              "      <td>United States</td>\n",
              "      <td>short</td>\n",
              "    </tr>\n",
              "    <tr>\n",
              "      <th>3</th>\n",
              "      <td>44</td>\n",
              "      <td>SEO</td>\n",
              "      <td>Safari</td>\n",
              "      <td>M</td>\n",
              "      <td>41</td>\n",
              "      <td>3.840542e+09</td>\n",
              "      <td>0</td>\n",
              "      <td>Other</td>\n",
              "      <td>long</td>\n",
              "    </tr>\n",
              "    <tr>\n",
              "      <th>4</th>\n",
              "      <td>39</td>\n",
              "      <td>Ads</td>\n",
              "      <td>Safari</td>\n",
              "      <td>M</td>\n",
              "      <td>45</td>\n",
              "      <td>4.155831e+08</td>\n",
              "      <td>0</td>\n",
              "      <td>United States</td>\n",
              "      <td>long</td>\n",
              "    </tr>\n",
              "  </tbody>\n",
              "</table>\n",
              "</div>"
            ],
            "text/plain": [
              "   purchase_value source browser sex  ...    ip_address  class        country   time\n",
              "0              34    SEO  Chrome   M  ...  7.327584e+08      0          Japan   long\n",
              "1              16    Ads  Chrome   F  ...  3.503114e+08      0  United States   long\n",
              "2              15    SEO   Opera   M  ...  2.621474e+09      1  United States  short\n",
              "3              44    SEO  Safari   M  ...  3.840542e+09      0          Other   long\n",
              "4              39    Ads  Safari   M  ...  4.155831e+08      0  United States   long\n",
              "\n",
              "[5 rows x 9 columns]"
            ]
          },
          "metadata": {
            "tags": []
          },
          "execution_count": 14
        }
      ]
    },
    {
      "cell_type": "code",
      "metadata": {
        "id": "V1e_8qHwQBqH",
        "colab_type": "code",
        "colab": {
          "base_uri": "https://localhost:8080/",
          "height": 119
        },
        "outputId": "3bb8dd21-2c9a-4227-a2f1-e04748309382"
      },
      "source": [
        "fraud_new['country'].value_counts()"
      ],
      "execution_count": 15,
      "outputs": [
        {
          "output_type": "execute_result",
          "data": {
            "text/plain": [
              "Other             69229\n",
              "United States     58049\n",
              "China             12038\n",
              "Japan              7306\n",
              "United Kingdom     4490\n",
              "Name: country, dtype: int64"
            ]
          },
          "metadata": {
            "tags": []
          },
          "execution_count": 15
        }
      ]
    },
    {
      "cell_type": "code",
      "metadata": {
        "id": "scbZ4gBQswnc",
        "colab_type": "code",
        "colab": {
          "base_uri": "https://localhost:8080/",
          "height": 289
        },
        "outputId": "b67cf12c-f8a7-47c6-95f0-96e7906913a1"
      },
      "source": [
        "fraud_new.info()"
      ],
      "execution_count": 16,
      "outputs": [
        {
          "output_type": "stream",
          "text": [
            "<class 'pandas.core.frame.DataFrame'>\n",
            "Int64Index: 151112 entries, 0 to 151111\n",
            "Data columns (total 9 columns):\n",
            " #   Column          Non-Null Count   Dtype  \n",
            "---  ------          --------------   -----  \n",
            " 0   purchase_value  151112 non-null  int64  \n",
            " 1   source          151112 non-null  object \n",
            " 2   browser         151112 non-null  object \n",
            " 3   sex             151112 non-null  object \n",
            " 4   age             151112 non-null  int64  \n",
            " 5   ip_address      151112 non-null  float64\n",
            " 6   class           151112 non-null  int64  \n",
            " 7   country         151112 non-null  object \n",
            " 8   time            151112 non-null  object \n",
            "dtypes: float64(1), int64(3), object(5)\n",
            "memory usage: 11.5+ MB\n"
          ],
          "name": "stdout"
        }
      ]
    },
    {
      "cell_type": "code",
      "metadata": {
        "id": "H3feI9X2rga3",
        "colab_type": "code",
        "colab": {
          "base_uri": "https://localhost:8080/",
          "height": 272
        },
        "outputId": "7be5b7df-48f4-48b0-800c-fddff2b7ce27"
      },
      "source": [
        "X.info()"
      ],
      "execution_count": null,
      "outputs": [
        {
          "output_type": "stream",
          "text": [
            "<class 'pandas.core.frame.DataFrame'>\n",
            "Int64Index: 151112 entries, 0 to 151111\n",
            "Data columns (total 8 columns):\n",
            " #   Column          Non-Null Count   Dtype  \n",
            "---  ------          --------------   -----  \n",
            " 0   purchase_value  151112 non-null  int64  \n",
            " 1   source          151112 non-null  object \n",
            " 2   browser         151112 non-null  object \n",
            " 3   sex             151112 non-null  object \n",
            " 4   age             151112 non-null  int64  \n",
            " 5   ip_address      151112 non-null  float64\n",
            " 6   country         151112 non-null  object \n",
            " 7   time            151112 non-null  object \n",
            "dtypes: float64(1), int64(2), object(5)\n",
            "memory usage: 10.4+ MB\n"
          ],
          "name": "stdout"
        }
      ]
    },
    {
      "cell_type": "code",
      "metadata": {
        "colab_type": "code",
        "id": "zY9UDLxS_iQF",
        "colab": {
          "base_uri": "https://localhost:8080/",
          "height": 68
        },
        "outputId": "86a5934a-5705-4b57-f2d3-96ba9c6ab9cc"
      },
      "source": [
        "# Declaration of target and features_list\n",
        "\n",
        "y = fraud_new['class']\n",
        "X = fraud_new.drop('class', axis=1)\n",
        "\n",
        "# Division of dataset Train set & Test set \n",
        "X_train, X_test, y_train, y_test = train_test_split(X, y, test_size=0.2, random_state=42, stratify=y)\n",
        "\n",
        "# Declaration of the categorical and numeric transfomers\n",
        "categorical_transformer = OneHotEncoder(drop='first')\n",
        "numeric_transformer = StandardScaler()\n",
        "numeric_features = [0,4,5]\n",
        "categorical_features = [1,2,3,6,7]\n",
        "\n",
        "# Declaration of the feature encoder\n",
        "feature_encoder = ColumnTransformer(\n",
        "transformers=[\n",
        "    ('num', numeric_transformer, numeric_features),\n",
        "    ('cat', categorical_transformer, categorical_features)\n",
        "]\n",
        ")\n",
        "# Fit of the encoder on X_train and transform of X_train\n",
        "# Fit on X\n",
        "feature_encoder.fit(X_train)\n",
        "print('Shape before feature encoder:', X_train.shape)\n",
        "X_train = feature_encoder.transform(X_train)\n",
        "print('Shape after feature encoder:', X_train.shape)\n",
        "\n",
        "# Transformation of X_test\n",
        "X_test = feature_encoder.transform(X_test)\n",
        "\n",
        "print('success', 'ヽ(ヅ)ノ','!')"
      ],
      "execution_count": 17,
      "outputs": [
        {
          "output_type": "stream",
          "text": [
            "Shape before feature encoder: (120889, 8)\n",
            "Shape after feature encoder: (120889, 15)\n",
            "success ヽ(ヅ)ノ !\n"
          ],
          "name": "stdout"
        }
      ]
    },
    {
      "cell_type": "markdown",
      "metadata": {
        "id": "LpF7aib2HbvU",
        "colab_type": "text"
      },
      "source": [
        "### Logistic Regression\n"
      ]
    },
    {
      "cell_type": "code",
      "metadata": {
        "id": "sg-FS-B5HXNF",
        "colab_type": "code",
        "colab": {}
      },
      "source": [
        "lgr = LogisticRegression()"
      ],
      "execution_count": 18,
      "outputs": []
    },
    {
      "cell_type": "code",
      "metadata": {
        "id": "m9_235F2IMeS",
        "colab_type": "code",
        "colab": {
          "base_uri": "https://localhost:8080/",
          "height": 102
        },
        "outputId": "377cdd45-447d-4e5c-96dd-b659e9fc3e3f"
      },
      "source": [
        "lgr.fit(X_train, y_train)"
      ],
      "execution_count": 19,
      "outputs": [
        {
          "output_type": "execute_result",
          "data": {
            "text/plain": [
              "LogisticRegression(C=1.0, class_weight=None, dual=False, fit_intercept=True,\n",
              "                   intercept_scaling=1, l1_ratio=None, max_iter=100,\n",
              "                   multi_class='auto', n_jobs=None, penalty='l2',\n",
              "                   random_state=None, solver='lbfgs', tol=0.0001, verbose=0,\n",
              "                   warm_start=False)"
            ]
          },
          "metadata": {
            "tags": []
          },
          "execution_count": 19
        }
      ]
    },
    {
      "cell_type": "code",
      "metadata": {
        "id": "HtVqYakEIgFZ",
        "colab_type": "code",
        "colab": {
          "base_uri": "https://localhost:8080/",
          "height": 51
        },
        "outputId": "4a46c29a-2e25-4701-968c-fb862aeeb567"
      },
      "source": [
        "print(\"Train set score : \", lgr.score(X_train, y_train))\n",
        "print(\"Test set score : \", lgr.score(X_test, y_test))"
      ],
      "execution_count": 22,
      "outputs": [
        {
          "output_type": "stream",
          "text": [
            "Train set score :  0.9568860690385395\n",
            "Test set score :  0.9556959931178242\n"
          ],
          "name": "stdout"
        }
      ]
    },
    {
      "cell_type": "code",
      "metadata": {
        "id": "2GBS30lcI8nH",
        "colab_type": "code",
        "colab": {
          "base_uri": "https://localhost:8080/",
          "height": 404
        },
        "outputId": "2b6f69f7-7ae5-4907-bd1f-322fb0dc1e84"
      },
      "source": [
        "plt.figure(figsize=(10,6))\n",
        "cm = confusion_matrix(y_test, lgr.predict(X_test))\n",
        "sns.heatmap(cm, annot=True, fmt=\"d\")\n",
        "plt.title('Confusion Matrix Linear Regression Model')\n",
        "plt.xlabel('Predicted values')\n",
        "plt.ylabel(\"Actual values\")\n",
        "\n",
        "plt.show()"
      ],
      "execution_count": 23,
      "outputs": [
        {
          "output_type": "display_data",
          "data": {
            "image/png": "[encoded data removed]",
            "text/plain": [
              "<Figure size 720x432 with 2 Axes>"
            ]
          },
          "metadata": {
            "tags": [],
            "needs_background": "light"
          }
        }
      ]
    },
    {
      "cell_type": "code",
      "metadata": {
        "id": "zHcB1SrIfnpo",
        "colab_type": "code",
        "colab": {
          "base_uri": "https://localhost:8080/",
          "height": 170
        },
        "outputId": "150bfad6-0304-4d9f-bf1f-a2f37de43abc"
      },
      "source": [
        "print(classification_report(y_true=y_test, y_pred=lgr.predict(X_test)))"
      ],
      "execution_count": 24,
      "outputs": [
        {
          "output_type": "stream",
          "text": [
            "              precision    recall  f1-score   support\n",
            "\n",
            "           0       0.95      1.00      0.98     27393\n",
            "           1       1.00      0.53      0.69      2830\n",
            "\n",
            "    accuracy                           0.96     30223\n",
            "   macro avg       0.98      0.76      0.83     30223\n",
            "weighted avg       0.96      0.96      0.95     30223\n",
            "\n"
          ],
          "name": "stdout"
        }
      ]
    },
    {
      "cell_type": "markdown",
      "metadata": {
        "id": "mk62uwzGSO8o",
        "colab_type": "text"
      },
      "source": [
        "### Random Forest"
      ]
    },
    {
      "cell_type": "code",
      "metadata": {
        "id": "iWDFl1h3fQwk",
        "colab_type": "code",
        "colab": {
          "base_uri": "https://localhost:8080/",
          "height": 153
        },
        "outputId": "111959b1-e4ee-468b-815d-e76dffd21e06"
      },
      "source": [
        "rdf = RandomForestClassifier()\n",
        "\n",
        "rdf.fit(X_train, y_train)"
      ],
      "execution_count": 25,
      "outputs": [
        {
          "output_type": "execute_result",
          "data": {
            "text/plain": [
              "RandomForestClassifier(bootstrap=True, ccp_alpha=0.0, class_weight=None,\n",
              "                       criterion='gini', max_depth=None, max_features='auto',\n",
              "                       max_leaf_nodes=None, max_samples=None,\n",
              "                       min_impurity_decrease=0.0, min_impurity_split=None,\n",
              "                       min_samples_leaf=1, min_samples_split=2,\n",
              "                       min_weight_fraction_leaf=0.0, n_estimators=100,\n",
              "                       n_jobs=None, oob_score=False, random_state=None,\n",
              "                       verbose=0, warm_start=False)"
            ]
          },
          "metadata": {
            "tags": []
          },
          "execution_count": 25
        }
      ]
    },
    {
      "cell_type": "code",
      "metadata": {
        "id": "0EyNO7e2fugC",
        "colab_type": "code",
        "colab": {
          "base_uri": "https://localhost:8080/",
          "height": 51
        },
        "outputId": "854dea56-a215-4b8e-c4f9-81b3073caf44"
      },
      "source": [
        "print(\"Train set score : \", rdf.score(X_train, y_train))\n",
        "print(\"Test set score : \", rdf.score(X_test, y_test))"
      ],
      "execution_count": 26,
      "outputs": [
        {
          "output_type": "stream",
          "text": [
            "Train set score :  0.9999420956414562\n",
            "Test set score :  0.9548357211395295\n"
          ],
          "name": "stdout"
        }
      ]
    },
    {
      "cell_type": "code",
      "metadata": {
        "id": "Ooi_YjMTf0AO",
        "colab_type": "code",
        "colab": {
          "base_uri": "https://localhost:8080/",
          "height": 404
        },
        "outputId": "bed187ca-4469-4714-e996-e393e5cb26ca"
      },
      "source": [
        "plt.figure(figsize=(10,6))\n",
        "cm = confusion_matrix(y_test, rdf.predict(X_test))\n",
        "sns.heatmap(cm, annot=True, fmt=\"d\")\n",
        "plt.title('Confusion Matrix Linear Regression Model')\n",
        "plt.xlabel('Predicted values')\n",
        "plt.ylabel(\"Actual values\")\n",
        "\n",
        "plt.show()"
      ],
      "execution_count": 27,
      "outputs": [
        {
          "output_type": "display_data",
          "data": {
            "image/png": "[encoded data removed]",
            "text/plain": [
              "<Figure size 720x432 with 2 Axes>"
            ]
          },
          "metadata": {
            "tags": [],
            "needs_background": "light"
          }
        }
      ]
    },
    {
      "cell_type": "code",
      "metadata": {
        "id": "qvPfpRZ7f79F",
        "colab_type": "code",
        "colab": {
          "base_uri": "https://localhost:8080/",
          "height": 170
        },
        "outputId": "63f2e8d5-3583-44bf-a585-22293d1b0ab1"
      },
      "source": [
        "print(classification_report(y_true=y_test, y_pred=rdf.predict(X_test)))"
      ],
      "execution_count": 28,
      "outputs": [
        {
          "output_type": "stream",
          "text": [
            "              precision    recall  f1-score   support\n",
            "\n",
            "           0       0.95      1.00      0.98     27393\n",
            "           1       0.98      0.53      0.69      2830\n",
            "\n",
            "    accuracy                           0.95     30223\n",
            "   macro avg       0.97      0.76      0.83     30223\n",
            "weighted avg       0.96      0.95      0.95     30223\n",
            "\n"
          ],
          "name": "stdout"
        }
      ]
    },
    {
      "cell_type": "markdown",
      "metadata": {
        "id": "gtOeBUq4SRM1",
        "colab_type": "text"
      },
      "source": [
        "### XGBoost"
      ]
    },
    {
      "cell_type": "code",
      "metadata": {
        "id": "KXtPO_NJiJfC",
        "colab_type": "code",
        "colab": {}
      },
      "source": [
        "xgb_model = XGBClassifier()\n"
      ],
      "execution_count": 29,
      "outputs": []
    },
    {
      "cell_type": "code",
      "metadata": {
        "id": "9qIj_q--h22Z",
        "colab_type": "code",
        "colab": {
          "base_uri": "https://localhost:8080/",
          "height": 136
        },
        "outputId": "446b92d0-020e-4676-d776-d8aad2a2deb9"
      },
      "source": [
        "xgb_model.fit(X_train, y_train)"
      ],
      "execution_count": 30,
      "outputs": [
        {
          "output_type": "execute_result",
          "data": {
            "text/plain": [
              "XGBClassifier(base_score=0.5, booster='gbtree', colsample_bylevel=1,\n",
              "              colsample_bynode=1, colsample_bytree=1, gamma=0,\n",
              "              learning_rate=0.1, max_delta_step=0, max_depth=3,\n",
              "              min_child_weight=1, missing=None, n_estimators=100, n_jobs=1,\n",
              "              nthread=None, objective='binary:logistic', random_state=0,\n",
              "              reg_alpha=0, reg_lambda=1, scale_pos_weight=1, seed=None,\n",
              "              silent=None, subsample=1, verbosity=1)"
            ]
          },
          "metadata": {
            "tags": []
          },
          "execution_count": 30
        }
      ]
    },
    {
      "cell_type": "code",
      "metadata": {
        "id": "tx_qLsJqW7d0",
        "colab_type": "code",
        "colab": {
          "base_uri": "https://localhost:8080/",
          "height": 34
        },
        "outputId": "aadf316f-4efb-43b4-c8ca-d6306921d6bf"
      },
      "source": [
        "xgb_model.score(X_test, y_test)"
      ],
      "execution_count": 31,
      "outputs": [
        {
          "output_type": "execute_result",
          "data": {
            "text/plain": [
              "0.9556959931178242"
            ]
          },
          "metadata": {
            "tags": []
          },
          "execution_count": 31
        }
      ]
    },
    {
      "cell_type": "code",
      "metadata": {
        "id": "jG4x3mofief6",
        "colab_type": "code",
        "colab": {
          "base_uri": "https://localhost:8080/",
          "height": 34
        },
        "outputId": "e578a480-fa8c-4a0b-db9b-431836c90e5c"
      },
      "source": [
        "mse=mean_squared_error(y_test, xgb_model.predict(X_test))\n",
        "print(mse)"
      ],
      "execution_count": 32,
      "outputs": [
        {
          "output_type": "stream",
          "text": [
            "0.044304006882175825\n"
          ],
          "name": "stdout"
        }
      ]
    },
    {
      "cell_type": "code",
      "metadata": {
        "id": "2vWlx2hwVJlr",
        "colab_type": "code",
        "colab": {
          "base_uri": "https://localhost:8080/",
          "height": 170
        },
        "outputId": "a6a9c52c-23f4-46a5-b7b2-32609728d4ce"
      },
      "source": [
        "print(classification_report(y_true=y_test, y_pred=xgb_model.predict(X_test)))"
      ],
      "execution_count": 33,
      "outputs": [
        {
          "output_type": "stream",
          "text": [
            "              precision    recall  f1-score   support\n",
            "\n",
            "           0       0.95      1.00      0.98     27393\n",
            "           1       1.00      0.53      0.69      2830\n",
            "\n",
            "    accuracy                           0.96     30223\n",
            "   macro avg       0.98      0.76      0.83     30223\n",
            "weighted avg       0.96      0.96      0.95     30223\n",
            "\n"
          ],
          "name": "stdout"
        }
      ]
    },
    {
      "cell_type": "markdown",
      "metadata": {
        "id": "qRmnVg_ESZmr",
        "colab_type": "text"
      },
      "source": [
        "### Grid Search"
      ]
    },
    {
      "cell_type": "code",
      "metadata": {
        "id": "FEAjfF0OXXrN",
        "colab_type": "code",
        "colab": {
          "base_uri": "https://localhost:8080/",
          "height": 1000
        },
        "outputId": "6ac217e0-484b-4f79-e5f9-c9850579bcab"
      },
      "source": [
        "from sklearn.model_selection import GridSearchCV\n",
        "classifier = XGBClassifier()\n",
        "parameters = {'n_estimators':[50, 100, 150, 200],\n",
        "              \"learning_rate\":[1.0, 0.5]}\n",
        "classifier_best = GridSearchCV(classifier, parameters, verbose=3)\n",
        "classifier_best.fit(X_train, y_train)"
      ],
      "execution_count": null,
      "outputs": [
        {
          "output_type": "stream",
          "text": [
            "Fitting 5 folds for each of 8 candidates, totalling 40 fits\n",
            "[CV] learning_rate=1.0, n_estimators=50 ..............................\n"
          ],
          "name": "stdout"
        },
        {
          "output_type": "stream",
          "text": [
            "[Parallel(n_jobs=1)]: Using backend SequentialBackend with 1 concurrent workers.\n"
          ],
          "name": "stderr"
        },
        {
          "output_type": "stream",
          "text": [
            "[CV] .. learning_rate=1.0, n_estimators=50, score=0.957, total=   2.9s\n",
            "[CV] learning_rate=1.0, n_estimators=50 ..............................\n"
          ],
          "name": "stdout"
        },
        {
          "output_type": "stream",
          "text": [
            "[Parallel(n_jobs=1)]: Done   1 out of   1 | elapsed:    2.9s remaining:    0.0s\n"
          ],
          "name": "stderr"
        },
        {
          "output_type": "stream",
          "text": [
            "[CV] .. learning_rate=1.0, n_estimators=50, score=0.956, total=   2.8s\n",
            "[CV] learning_rate=1.0, n_estimators=50 ..............................\n"
          ],
          "name": "stdout"
        },
        {
          "output_type": "stream",
          "text": [
            "[Parallel(n_jobs=1)]: Done   2 out of   2 | elapsed:    5.7s remaining:    0.0s\n"
          ],
          "name": "stderr"
        },
        {
          "output_type": "stream",
          "text": [
            "[CV] .. learning_rate=1.0, n_estimators=50, score=0.956, total=   2.8s\n",
            "[CV] learning_rate=1.0, n_estimators=50 ..............................\n",
            "[CV] .. learning_rate=1.0, n_estimators=50, score=0.957, total=   2.8s\n",
            "[CV] learning_rate=1.0, n_estimators=50 ..............................\n",
            "[CV] .. learning_rate=1.0, n_estimators=50, score=0.956, total=   2.8s\n",
            "[CV] learning_rate=1.0, n_estimators=100 .............................\n",
            "[CV] . learning_rate=1.0, n_estimators=100, score=0.957, total=   5.5s\n",
            "[CV] learning_rate=1.0, n_estimators=100 .............................\n",
            "[CV] . learning_rate=1.0, n_estimators=100, score=0.956, total=   5.5s\n",
            "[CV] learning_rate=1.0, n_estimators=100 .............................\n",
            "[CV] . learning_rate=1.0, n_estimators=100, score=0.956, total=   5.5s\n",
            "[CV] learning_rate=1.0, n_estimators=100 .............................\n",
            "[CV] . learning_rate=1.0, n_estimators=100, score=0.957, total=   5.5s\n",
            "[CV] learning_rate=1.0, n_estimators=100 .............................\n",
            "[CV] . learning_rate=1.0, n_estimators=100, score=0.956, total=   5.5s\n",
            "[CV] learning_rate=1.0, n_estimators=150 .............................\n",
            "[CV] . learning_rate=1.0, n_estimators=150, score=0.957, total=   8.5s\n",
            "[CV] learning_rate=1.0, n_estimators=150 .............................\n",
            "[CV] . learning_rate=1.0, n_estimators=150, score=0.956, total=  11.3s\n",
            "[CV] learning_rate=1.0, n_estimators=150 .............................\n",
            "[CV] . learning_rate=1.0, n_estimators=150, score=0.956, total=   8.2s\n",
            "[CV] learning_rate=1.0, n_estimators=150 .............................\n",
            "[CV] . learning_rate=1.0, n_estimators=150, score=0.957, total=   8.2s\n",
            "[CV] learning_rate=1.0, n_estimators=150 .............................\n",
            "[CV] . learning_rate=1.0, n_estimators=150, score=0.956, total=   8.2s\n",
            "[CV] learning_rate=1.0, n_estimators=200 .............................\n",
            "[CV] . learning_rate=1.0, n_estimators=200, score=0.957, total=  11.0s\n",
            "[CV] learning_rate=1.0, n_estimators=200 .............................\n",
            "[CV] . learning_rate=1.0, n_estimators=200, score=0.956, total=  10.9s\n",
            "[CV] learning_rate=1.0, n_estimators=200 .............................\n",
            "[CV] . learning_rate=1.0, n_estimators=200, score=0.956, total=  10.9s\n",
            "[CV] learning_rate=1.0, n_estimators=200 .............................\n",
            "[CV] . learning_rate=1.0, n_estimators=200, score=0.956, total=  11.2s\n",
            "[CV] learning_rate=1.0, n_estimators=200 .............................\n",
            "[CV] . learning_rate=1.0, n_estimators=200, score=0.956, total=  10.8s\n",
            "[CV] learning_rate=0.5, n_estimators=50 ..............................\n",
            "[CV] .. learning_rate=0.5, n_estimators=50, score=0.957, total=   2.8s\n",
            "[CV] learning_rate=0.5, n_estimators=50 ..............................\n",
            "[CV] .. learning_rate=0.5, n_estimators=50, score=0.956, total=   2.8s\n",
            "[CV] learning_rate=0.5, n_estimators=50 ..............................\n",
            "[CV] .. learning_rate=0.5, n_estimators=50, score=0.957, total=   2.8s\n",
            "[CV] learning_rate=0.5, n_estimators=50 ..............................\n",
            "[CV] .. learning_rate=0.5, n_estimators=50, score=0.957, total=   2.8s\n",
            "[CV] learning_rate=0.5, n_estimators=50 ..............................\n",
            "[CV] .. learning_rate=0.5, n_estimators=50, score=0.956, total=   2.8s\n",
            "[CV] learning_rate=0.5, n_estimators=100 .............................\n",
            "[CV] . learning_rate=0.5, n_estimators=100, score=0.957, total=   5.5s\n",
            "[CV] learning_rate=0.5, n_estimators=100 .............................\n",
            "[CV] . learning_rate=0.5, n_estimators=100, score=0.956, total=   5.5s\n",
            "[CV] learning_rate=0.5, n_estimators=100 .............................\n",
            "[CV] . learning_rate=0.5, n_estimators=100, score=0.957, total=   5.4s\n",
            "[CV] learning_rate=0.5, n_estimators=100 .............................\n",
            "[CV] . learning_rate=0.5, n_estimators=100, score=0.957, total=   5.5s\n",
            "[CV] learning_rate=0.5, n_estimators=100 .............................\n",
            "[CV] . learning_rate=0.5, n_estimators=100, score=0.956, total=   5.5s\n",
            "[CV] learning_rate=0.5, n_estimators=150 .............................\n",
            "[CV] . learning_rate=0.5, n_estimators=150, score=0.957, total=   8.2s\n",
            "[CV] learning_rate=0.5, n_estimators=150 .............................\n",
            "[CV] . learning_rate=0.5, n_estimators=150, score=0.956, total=   8.2s\n",
            "[CV] learning_rate=0.5, n_estimators=150 .............................\n",
            "[CV] . learning_rate=0.5, n_estimators=150, score=0.957, total=   8.1s\n",
            "[CV] learning_rate=0.5, n_estimators=150 .............................\n",
            "[CV] . learning_rate=0.5, n_estimators=150, score=0.957, total=   8.2s\n",
            "[CV] learning_rate=0.5, n_estimators=150 .............................\n",
            "[CV] . learning_rate=0.5, n_estimators=150, score=0.956, total=   8.2s\n",
            "[CV] learning_rate=0.5, n_estimators=200 .............................\n",
            "[CV] . learning_rate=0.5, n_estimators=200, score=0.957, total=  10.9s\n",
            "[CV] learning_rate=0.5, n_estimators=200 .............................\n",
            "[CV] . learning_rate=0.5, n_estimators=200, score=0.956, total=  11.0s\n",
            "[CV] learning_rate=0.5, n_estimators=200 .............................\n",
            "[CV] . learning_rate=0.5, n_estimators=200, score=0.957, total=  10.8s\n",
            "[CV] learning_rate=0.5, n_estimators=200 .............................\n",
            "[CV] . learning_rate=0.5, n_estimators=200, score=0.957, total=  10.8s\n",
            "[CV] learning_rate=0.5, n_estimators=200 .............................\n",
            "[CV] . learning_rate=0.5, n_estimators=200, score=0.956, total=  10.9s\n"
          ],
          "name": "stdout"
        },
        {
          "output_type": "stream",
          "text": [
            "[Parallel(n_jobs=1)]: Done  40 out of  40 | elapsed:  4.6min finished\n"
          ],
          "name": "stderr"
        },
        {
          "output_type": "execute_result",
          "data": {
            "text/plain": [
              "GridSearchCV(cv=None, error_score=nan,\n",
              "             estimator=XGBClassifier(base_score=0.5, booster='gbtree',\n",
              "                                     colsample_bylevel=1, colsample_bynode=1,\n",
              "                                     colsample_bytree=1, gamma=0,\n",
              "                                     learning_rate=0.1, max_delta_step=0,\n",
              "                                     max_depth=3, min_child_weight=1,\n",
              "                                     missing=None, n_estimators=100, n_jobs=1,\n",
              "                                     nthread=None, objective='binary:logistic',\n",
              "                                     random_state=0, reg_alpha=0, reg_lambda=1,\n",
              "                                     scale_pos_weight=1, seed=None, silent=None,\n",
              "                                     subsample=1, verbosity=1),\n",
              "             iid='deprecated', n_jobs=None,\n",
              "             param_grid={'learning_rate': [1.0, 0.5],\n",
              "                         'n_estimators': [50, 100, 150, 200]},\n",
              "             pre_dispatch='2*n_jobs', refit=True, return_train_score=False,\n",
              "             scoring=None, verbose=3)"
            ]
          },
          "metadata": {
            "tags": []
          },
          "execution_count": 30
        }
      ]
    },
    {
      "cell_type": "code",
      "metadata": {
        "id": "YSU6SEIbU43c",
        "colab_type": "code",
        "colab": {
          "base_uri": "https://localhost:8080/",
          "height": 34
        },
        "outputId": "4cb93e08-3281-4a25-d31b-e7da9d73c33b"
      },
      "source": [
        "classifier_best.score(X_test, y_test)"
      ],
      "execution_count": null,
      "outputs": [
        {
          "output_type": "execute_result",
          "data": {
            "text/plain": [
              "0.9564239155609966"
            ]
          },
          "metadata": {
            "tags": []
          },
          "execution_count": 33
        }
      ]
    },
    {
      "cell_type": "code",
      "metadata": {
        "id": "vgNiW89fVSh-",
        "colab_type": "code",
        "colab": {
          "base_uri": "https://localhost:8080/",
          "height": 170
        },
        "outputId": "fca72cbb-cb1e-44a4-b0ec-77d36e187d8a"
      },
      "source": [
        "print(classification_report(y_true=y_test, y_pred=classifier_best.predict(X_test)))"
      ],
      "execution_count": null,
      "outputs": [
        {
          "output_type": "stream",
          "text": [
            "              precision    recall  f1-score   support\n",
            "\n",
            "           0       0.95      1.00      0.98     27373\n",
            "           1       1.00      0.54      0.70      2850\n",
            "\n",
            "    accuracy                           0.96     30223\n",
            "   macro avg       0.98      0.77      0.84     30223\n",
            "weighted avg       0.96      0.96      0.95     30223\n",
            "\n"
          ],
          "name": "stdout"
        }
      ]
    },
    {
      "cell_type": "code",
      "metadata": {
        "id": "FHYbDtEYVm1I",
        "colab_type": "code",
        "colab": {
          "base_uri": "https://localhost:8080/",
          "height": 1000
        },
        "outputId": "1e36f66a-99fb-444b-9dd8-41263b347804"
      },
      "source": [
        "classifier = RandomForestClassifier(class_weight='balanced')\n",
        "parameters = {'n_estimators':[50, 100, 150, 200],\n",
        "              \"max_depth\":[1, 5, 10],}\n",
        "classifier_best = GridSearchCV(classifier, parameters, verbose=3)\n",
        "classifier_best.fit(X_train, y_train)"
      ],
      "execution_count": null,
      "outputs": [
        {
          "output_type": "stream",
          "text": [
            "Fitting 5 folds for each of 12 candidates, totalling 60 fits\n",
            "[CV] max_depth=1, n_estimators=50 ....................................\n"
          ],
          "name": "stdout"
        },
        {
          "output_type": "stream",
          "text": [
            "[Parallel(n_jobs=1)]: Using backend SequentialBackend with 1 concurrent workers.\n"
          ],
          "name": "stderr"
        },
        {
          "output_type": "stream",
          "text": [
            "[CV] ........ max_depth=1, n_estimators=50, score=0.957, total=   0.9s\n",
            "[CV] max_depth=1, n_estimators=50 ....................................\n"
          ],
          "name": "stdout"
        },
        {
          "output_type": "stream",
          "text": [
            "[Parallel(n_jobs=1)]: Done   1 out of   1 | elapsed:    0.9s remaining:    0.0s\n"
          ],
          "name": "stderr"
        },
        {
          "output_type": "stream",
          "text": [
            "[CV] ........ max_depth=1, n_estimators=50, score=0.956, total=   0.9s\n",
            "[CV] max_depth=1, n_estimators=50 ....................................\n"
          ],
          "name": "stdout"
        },
        {
          "output_type": "stream",
          "text": [
            "[Parallel(n_jobs=1)]: Done   2 out of   2 | elapsed:    1.9s remaining:    0.0s\n"
          ],
          "name": "stderr"
        },
        {
          "output_type": "stream",
          "text": [
            "[CV] ........ max_depth=1, n_estimators=50, score=0.957, total=   1.0s\n",
            "[CV] max_depth=1, n_estimators=50 ....................................\n",
            "[CV] ........ max_depth=1, n_estimators=50, score=0.957, total=   1.0s\n",
            "[CV] max_depth=1, n_estimators=50 ....................................\n",
            "[CV] ........ max_depth=1, n_estimators=50, score=0.956, total=   1.0s\n",
            "[CV] max_depth=1, n_estimators=100 ...................................\n",
            "[CV] ....... max_depth=1, n_estimators=100, score=0.957, total=   2.0s\n",
            "[CV] max_depth=1, n_estimators=100 ...................................\n",
            "[CV] ....... max_depth=1, n_estimators=100, score=0.956, total=   1.9s\n",
            "[CV] max_depth=1, n_estimators=100 ...................................\n",
            "[CV] ....... max_depth=1, n_estimators=100, score=0.957, total=   1.8s\n",
            "[CV] max_depth=1, n_estimators=100 ...................................\n",
            "[CV] ....... max_depth=1, n_estimators=100, score=0.957, total=   2.0s\n",
            "[CV] max_depth=1, n_estimators=100 ...................................\n",
            "[CV] ....... max_depth=1, n_estimators=100, score=0.956, total=   2.0s\n",
            "[CV] max_depth=1, n_estimators=150 ...................................\n",
            "[CV] ....... max_depth=1, n_estimators=150, score=0.957, total=   2.9s\n",
            "[CV] max_depth=1, n_estimators=150 ...................................\n",
            "[CV] ....... max_depth=1, n_estimators=150, score=0.956, total=   2.9s\n",
            "[CV] max_depth=1, n_estimators=150 ...................................\n",
            "[CV] ....... max_depth=1, n_estimators=150, score=0.957, total=   2.9s\n",
            "[CV] max_depth=1, n_estimators=150 ...................................\n",
            "[CV] ....... max_depth=1, n_estimators=150, score=0.957, total=   2.9s\n",
            "[CV] max_depth=1, n_estimators=150 ...................................\n",
            "[CV] ....... max_depth=1, n_estimators=150, score=0.956, total=   2.9s\n",
            "[CV] max_depth=1, n_estimators=200 ...................................\n",
            "[CV] ....... max_depth=1, n_estimators=200, score=0.957, total=   3.8s\n",
            "[CV] max_depth=1, n_estimators=200 ...................................\n",
            "[CV] ....... max_depth=1, n_estimators=200, score=0.956, total=   3.9s\n",
            "[CV] max_depth=1, n_estimators=200 ...................................\n",
            "[CV] ....... max_depth=1, n_estimators=200, score=0.957, total=   3.7s\n",
            "[CV] max_depth=1, n_estimators=200 ...................................\n",
            "[CV] ....... max_depth=1, n_estimators=200, score=0.957, total=   3.7s\n",
            "[CV] max_depth=1, n_estimators=200 ...................................\n",
            "[CV] ....... max_depth=1, n_estimators=200, score=0.956, total=   3.8s\n",
            "[CV] max_depth=5, n_estimators=50 ....................................\n",
            "[CV] ........ max_depth=5, n_estimators=50, score=0.957, total=   2.0s\n",
            "[CV] max_depth=5, n_estimators=50 ....................................\n",
            "[CV] ........ max_depth=5, n_estimators=50, score=0.956, total=   2.0s\n",
            "[CV] max_depth=5, n_estimators=50 ....................................\n",
            "[CV] ........ max_depth=5, n_estimators=50, score=0.957, total=   2.0s\n",
            "[CV] max_depth=5, n_estimators=50 ....................................\n",
            "[CV] ........ max_depth=5, n_estimators=50, score=0.957, total=   2.0s\n",
            "[CV] max_depth=5, n_estimators=50 ....................................\n",
            "[CV] ........ max_depth=5, n_estimators=50, score=0.956, total=   2.0s\n",
            "[CV] max_depth=5, n_estimators=100 ...................................\n",
            "[CV] ....... max_depth=5, n_estimators=100, score=0.957, total=   4.0s\n",
            "[CV] max_depth=5, n_estimators=100 ...................................\n",
            "[CV] ....... max_depth=5, n_estimators=100, score=0.956, total=   4.0s\n",
            "[CV] max_depth=5, n_estimators=100 ...................................\n",
            "[CV] ....... max_depth=5, n_estimators=100, score=0.957, total=   4.0s\n",
            "[CV] max_depth=5, n_estimators=100 ...................................\n",
            "[CV] ....... max_depth=5, n_estimators=100, score=0.957, total=   4.1s\n",
            "[CV] max_depth=5, n_estimators=100 ...................................\n",
            "[CV] ....... max_depth=5, n_estimators=100, score=0.956, total=   4.1s\n",
            "[CV] max_depth=5, n_estimators=150 ...................................\n",
            "[CV] ....... max_depth=5, n_estimators=150, score=0.957, total=   6.0s\n",
            "[CV] max_depth=5, n_estimators=150 ...................................\n",
            "[CV] ....... max_depth=5, n_estimators=150, score=0.956, total=   6.1s\n",
            "[CV] max_depth=5, n_estimators=150 ...................................\n",
            "[CV] ....... max_depth=5, n_estimators=150, score=0.957, total=   6.0s\n",
            "[CV] max_depth=5, n_estimators=150 ...................................\n",
            "[CV] ....... max_depth=5, n_estimators=150, score=0.957, total=   5.9s\n",
            "[CV] max_depth=5, n_estimators=150 ...................................\n",
            "[CV] ....... max_depth=5, n_estimators=150, score=0.956, total=   6.2s\n",
            "[CV] max_depth=5, n_estimators=200 ...................................\n",
            "[CV] ....... max_depth=5, n_estimators=200, score=0.957, total=   8.1s\n",
            "[CV] max_depth=5, n_estimators=200 ...................................\n",
            "[CV] ....... max_depth=5, n_estimators=200, score=0.956, total=   8.2s\n",
            "[CV] max_depth=5, n_estimators=200 ...................................\n",
            "[CV] ....... max_depth=5, n_estimators=200, score=0.957, total=   8.1s\n",
            "[CV] max_depth=5, n_estimators=200 ...................................\n",
            "[CV] ....... max_depth=5, n_estimators=200, score=0.957, total=   7.9s\n",
            "[CV] max_depth=5, n_estimators=200 ...................................\n",
            "[CV] ....... max_depth=5, n_estimators=200, score=0.956, total=   8.1s\n",
            "[CV] max_depth=10, n_estimators=50 ...................................\n",
            "[CV] ....... max_depth=10, n_estimators=50, score=0.957, total=   3.3s\n",
            "[CV] max_depth=10, n_estimators=50 ...................................\n",
            "[CV] ....... max_depth=10, n_estimators=50, score=0.956, total=   3.3s\n",
            "[CV] max_depth=10, n_estimators=50 ...................................\n",
            "[CV] ....... max_depth=10, n_estimators=50, score=0.957, total=   3.2s\n",
            "[CV] max_depth=10, n_estimators=50 ...................................\n",
            "[CV] ....... max_depth=10, n_estimators=50, score=0.957, total=   3.1s\n",
            "[CV] max_depth=10, n_estimators=50 ...................................\n",
            "[CV] ....... max_depth=10, n_estimators=50, score=0.956, total=   3.2s\n",
            "[CV] max_depth=10, n_estimators=100 ..................................\n",
            "[CV] ...... max_depth=10, n_estimators=100, score=0.957, total=   6.2s\n",
            "[CV] max_depth=10, n_estimators=100 ..................................\n",
            "[CV] ...... max_depth=10, n_estimators=100, score=0.956, total=   6.4s\n",
            "[CV] max_depth=10, n_estimators=100 ..................................\n",
            "[CV] ...... max_depth=10, n_estimators=100, score=0.957, total=   6.2s\n",
            "[CV] max_depth=10, n_estimators=100 ..................................\n",
            "[CV] ...... max_depth=10, n_estimators=100, score=0.957, total=   6.4s\n",
            "[CV] max_depth=10, n_estimators=100 ..................................\n",
            "[CV] ...... max_depth=10, n_estimators=100, score=0.956, total=   6.2s\n",
            "[CV] max_depth=10, n_estimators=150 ..................................\n",
            "[CV] ...... max_depth=10, n_estimators=150, score=0.957, total=   9.5s\n",
            "[CV] max_depth=10, n_estimators=150 ..................................\n",
            "[CV] ...... max_depth=10, n_estimators=150, score=0.956, total=   9.3s\n",
            "[CV] max_depth=10, n_estimators=150 ..................................\n",
            "[CV] ...... max_depth=10, n_estimators=150, score=0.957, total=   9.4s\n",
            "[CV] max_depth=10, n_estimators=150 ..................................\n",
            "[CV] ...... max_depth=10, n_estimators=150, score=0.957, total=   9.5s\n",
            "[CV] max_depth=10, n_estimators=150 ..................................\n",
            "[CV] ...... max_depth=10, n_estimators=150, score=0.956, total=   9.4s\n",
            "[CV] max_depth=10, n_estimators=200 ..................................\n",
            "[CV] ...... max_depth=10, n_estimators=200, score=0.957, total=  12.5s\n",
            "[CV] max_depth=10, n_estimators=200 ..................................\n",
            "[CV] ...... max_depth=10, n_estimators=200, score=0.956, total=  12.6s\n",
            "[CV] max_depth=10, n_estimators=200 ..................................\n",
            "[CV] ...... max_depth=10, n_estimators=200, score=0.957, total=  12.6s\n",
            "[CV] max_depth=10, n_estimators=200 ..................................\n",
            "[CV] ...... max_depth=10, n_estimators=200, score=0.957, total=  12.4s\n",
            "[CV] max_depth=10, n_estimators=200 ..................................\n",
            "[CV] ...... max_depth=10, n_estimators=200, score=0.956, total=  12.6s\n"
          ],
          "name": "stdout"
        },
        {
          "output_type": "stream",
          "text": [
            "[Parallel(n_jobs=1)]: Done  60 out of  60 | elapsed:  5.1min finished\n"
          ],
          "name": "stderr"
        },
        {
          "output_type": "execute_result",
          "data": {
            "text/plain": [
              "GridSearchCV(cv=None, error_score=nan,\n",
              "             estimator=RandomForestClassifier(bootstrap=True, ccp_alpha=0.0,\n",
              "                                              class_weight='balanced',\n",
              "                                              criterion='gini', max_depth=None,\n",
              "                                              max_features='auto',\n",
              "                                              max_leaf_nodes=None,\n",
              "                                              max_samples=None,\n",
              "                                              min_impurity_decrease=0.0,\n",
              "                                              min_impurity_split=None,\n",
              "                                              min_samples_leaf=1,\n",
              "                                              min_samples_split=2,\n",
              "                                              min_weight_fraction_leaf=0.0,\n",
              "                                              n_estimators=100, n_jobs=None,\n",
              "                                              oob_score=False,\n",
              "                                              random_state=None, verbose=0,\n",
              "                                              warm_start=False),\n",
              "             iid='deprecated', n_jobs=None,\n",
              "             param_grid={'max_depth': [1, 5, 10],\n",
              "                         'n_estimators': [50, 100, 150, 200]},\n",
              "             pre_dispatch='2*n_jobs', refit=True, return_train_score=False,\n",
              "             scoring=None, verbose=3)"
            ]
          },
          "metadata": {
            "tags": []
          },
          "execution_count": 39
        }
      ]
    },
    {
      "cell_type": "code",
      "metadata": {
        "id": "vA-M_MOAX_Bw",
        "colab_type": "code",
        "colab": {
          "base_uri": "https://localhost:8080/",
          "height": 34
        },
        "outputId": "df674965-cebc-41a9-f24d-3754794bda5e"
      },
      "source": [
        "classifier_best.score(X_test, y_test)"
      ],
      "execution_count": null,
      "outputs": [
        {
          "output_type": "execute_result",
          "data": {
            "text/plain": [
              "0.9564239155609966"
            ]
          },
          "metadata": {
            "tags": []
          },
          "execution_count": 41
        }
      ]
    },
    {
      "cell_type": "code",
      "metadata": {
        "id": "HmSXY8dzYCyp",
        "colab_type": "code",
        "colab": {
          "base_uri": "https://localhost:8080/",
          "height": 170
        },
        "outputId": "93d933ff-618d-4c92-f74f-a4ee1d8ff6d9"
      },
      "source": [
        "print(classification_report(y_true=y_test, y_pred=classifier_best.predict(X_test)))"
      ],
      "execution_count": null,
      "outputs": [
        {
          "output_type": "stream",
          "text": [
            "              precision    recall  f1-score   support\n",
            "\n",
            "           0       0.95      1.00      0.98     27373\n",
            "           1       1.00      0.54      0.70      2850\n",
            "\n",
            "    accuracy                           0.96     30223\n",
            "   macro avg       0.98      0.77      0.84     30223\n",
            "weighted avg       0.96      0.96      0.95     30223\n",
            "\n"
          ],
          "name": "stdout"
        }
      ]
    },
    {
      "cell_type": "markdown",
      "metadata": {
        "id": "QVWFtBkujR-r",
        "colab_type": "text"
      },
      "source": [
        "The different models have nearly the same scores. they cannot recognize every fraudulent transactions, but they recognize well when it is not a fraud.\n",
        "A bit more of 50% of the frauds are recognized. The fact that the dataset is unbalanced can explain why the models don't perform so well. They would need to train on a dataset with more fraudulent transactions examples.\n"
      ]
    },
    {
      "cell_type": "code",
      "metadata": {
        "id": "2ysDn__EVRwT",
        "colab_type": "code",
        "colab": {}
      },
      "source": [
        ""
      ],
      "execution_count": null,
      "outputs": []
    }
  ]
}